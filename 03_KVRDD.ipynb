{
 "cells": [
  {
   "cell_type": "code",
   "execution_count": 1,
   "id": "66ac2c0b-a812-478b-bb3b-c00a2ba75c20",
   "metadata": {},
   "outputs": [],
   "source": [
    "from pyspark.sql import SparkSession\n",
    "\n",
    "spark = SparkSession.builder.appName(\"restaurant-review-average\").master('local[*]').getOrCreate()"
   ]
  },
  {
   "cell_type": "code",
   "execution_count": 2,
   "id": "0c922da1-851e-473a-9447-9363ea0877e8",
   "metadata": {},
   "outputs": [],
   "source": [
    "sc = spark.sparkContext  # 필요 시 RDD API를 위해 사용"
   ]
  },
  {
   "cell_type": "code",
   "execution_count": 3,
   "id": "ada36513-41a1-4ed1-83f6-f3a3c27841ac",
   "metadata": {},
   "outputs": [
    {
     "data": {
      "text/plain": [
       "2"
      ]
     },
     "execution_count": 3,
     "metadata": {},
     "output_type": "execute_result"
    }
   ],
   "source": [
    "sc.defaultParallelism  # 필요"
   ]
  },
  {
   "cell_type": "code",
   "execution_count": 4,
   "id": "4f0698e4-5811-4c4d-8d80-9ca9bcbc847f",
   "metadata": {},
   "outputs": [
    {
     "data": {
      "text/plain": [
       "['id,item,cateogry,reviews,',\n",
       " '0,짜장면,중식,125,',\n",
       " '1,짬뽕,중식,235,',\n",
       " '2,김밥,분식,32,',\n",
       " '3,떡볶이,분식,534,']"
      ]
     },
     "execution_count": 4,
     "metadata": {},
     "output_type": "execute_result"
    }
   ],
   "source": [
    "lines = sc.textFile(\"file:///home/jovyan/work/learning_spark_data/restaurant_reviews.csv\")\n",
    "lines.take(5)"
   ]
  },
  {
   "cell_type": "code",
   "execution_count": 5,
   "id": "7374c52a-6cb0-4ab2-be57-339f03d7a054",
   "metadata": {},
   "outputs": [],
   "source": [
    "# 총 건수\n",
    "# 첫 줄, 실제 데이터 분할\n",
    "# map으로 split"
   ]
  },
  {
   "cell_type": "code",
   "execution_count": 6,
   "id": "20c820dd-5993-4f6a-b807-c6ee3fb388e6",
   "metadata": {},
   "outputs": [
    {
     "data": {
      "text/plain": [
       "'id,item,cateogry,reviews,'"
      ]
     },
     "execution_count": 6,
     "metadata": {},
     "output_type": "execute_result"
    }
   ],
   "source": [
    "header = lines.first()\n",
    "header"
   ]
  },
  {
   "cell_type": "code",
   "execution_count": 7,
   "id": "9e630805-055f-4a2d-a04d-5475516dbf07",
   "metadata": {},
   "outputs": [
    {
     "data": {
      "text/plain": [
       "['0,짜장면,중식,125,',\n",
       " '1,짬뽕,중식,235,',\n",
       " '2,김밥,분식,32,',\n",
       " '3,떡볶이,분식,534,',\n",
       " '4,라멘,일식,223,']"
      ]
     },
     "execution_count": 7,
     "metadata": {},
     "output_type": "execute_result"
    }
   ],
   "source": [
    "data = lines.filter(lambda row: row != header)\n",
    "data.take(5)"
   ]
  },
  {
   "cell_type": "code",
   "execution_count": 8,
   "id": "24d46ef9-db0a-4f9a-9b32-33f835e485c6",
   "metadata": {},
   "outputs": [],
   "source": [
    "def parse(row):\n",
    "    fields = row.split(\",\")\n",
    "    \n",
    "    category = fields[2] #카테고리\n",
    "    \n",
    "    # reviews는 정수로 parse\n",
    "    reviews = fields[3] # 리뷰수\n",
    "    reviews = int(reviews)\n",
    "    \n",
    "    return category, reviews"
   ]
  },
  {
   "cell_type": "code",
   "execution_count": 9,
   "id": "070d5c90-6ba4-45db-af38-135a554e9d6e",
   "metadata": {},
   "outputs": [
    {
     "data": {
      "text/plain": [
       "PythonRDD[5] at RDD at PythonRDD.scala:53"
      ]
     },
     "execution_count": 9,
     "metadata": {},
     "output_type": "execute_result"
    }
   ],
   "source": [
    "category_reviews = data.map(parse)\n",
    "category_reviews"
   ]
  },
  {
   "cell_type": "code",
   "execution_count": 10,
   "id": "38dd1f58-8a82-4db8-923d-4bf1b3d3d2e6",
   "metadata": {},
   "outputs": [
    {
     "data": {
      "text/plain": [
       "[('중식', 125),\n",
       " ('중식', 235),\n",
       " ('분식', 32),\n",
       " ('분식', 534),\n",
       " ('일식', 223),\n",
       " ('일식', 52),\n",
       " ('일식', 12),\n",
       " ('아시안', 312),\n",
       " ('패스트푸드', 12),\n",
       " ('패스트푸드', 23)]"
      ]
     },
     "execution_count": 10,
     "metadata": {},
     "output_type": "execute_result"
    }
   ],
   "source": [
    "category_reviews.collect()"
   ]
  },
  {
   "cell_type": "code",
   "execution_count": 11,
   "id": "ddaf0fe9-e6c4-4279-b8c2-e6a415bbd307",
   "metadata": {},
   "outputs": [
    {
     "data": {
      "text/plain": [
       "[('중식', (125, 1)),\n",
       " ('중식', (235, 1)),\n",
       " ('분식', (32, 1)),\n",
       " ('분식', (534, 1)),\n",
       " ('일식', (223, 1)),\n",
       " ('일식', (52, 1)),\n",
       " ('일식', (12, 1)),\n",
       " ('아시안', (312, 1)),\n",
       " ('패스트푸드', (12, 1)),\n",
       " ('패스트푸드', (23, 1))]"
      ]
     },
     "execution_count": 11,
     "metadata": {},
     "output_type": "execute_result"
    }
   ],
   "source": [
    "category_review_count = category_reviews.mapValues(lambda x : (x, 1)) # x는 review 개수\n",
    "category_review_count.collect()"
   ]
  },
  {
   "cell_type": "code",
   "execution_count": 12,
   "id": "79b16b08-ba04-4f30-bc58-065100d332f1",
   "metadata": {},
   "outputs": [
    {
     "data": {
      "text/plain": [
       "[('중식', (360, 2)),\n",
       " ('분식', (566, 2)),\n",
       " ('일식', (287, 3)),\n",
       " ('아시안', (312, 1)),\n",
       " ('패스트푸드', (35, 2))]"
      ]
     },
     "execution_count": 12,
     "metadata": {},
     "output_type": "execute_result"
    }
   ],
   "source": [
    "#같은 key(카테고리)끼리 x와 y의 (리뷰 수 합계, 개수 합계)를 누적\n",
    "#첫번째 중식 x, 두번째 중식 y , [0] 은 리뷰수, [1] 은 개수 -> 같은 키끼리 행을 바꿔가며 계속 누적해 나간다.\n",
    "reduced = category_review_count.reduceByKey(lambda x, y : (x[0] + y[0], x[1] + y[1]))\n",
    "reduced.collect()"
   ]
  },
  {
   "cell_type": "markdown",
   "id": "1d57c1d5-d0cb-4214-a375-ad1a35131e91",
   "metadata": {},
   "source": [
    "| 구분    | `map()`                               | `mapValues()`                    |\r\n",
    "| ----- | ------------------------------------- | -------------------------------- |\r\n",
    "| 작동 대상 | (key, value) 전체                       | **value만 변환**                    |\r\n",
    "| 리턴 형식 | `(new_key, new_value)`                | **key는 그대로**, value만 변경          |\r\n",
    "| 예시    | `rdd.map(lambda x: (x[0], x[1] + 1))` | `rdd.mapValues(lambda v: v + 1)` |\r\n",
    "| 용도    | key와 value 모두 수정할 때                   | value만 수정하고 싶을 때                 |\r\n"
   ]
  },
  {
   "cell_type": "markdown",
   "id": "0ccfa56e-f57f-4169-b8f3-a5b7a1176b74",
   "metadata": {},
   "source": [
    "# Persist 사용"
   ]
  },
  {
   "cell_type": "code",
   "execution_count": 13,
   "id": "d7cf771f-a10e-4e78-9392-0b755a17e989",
   "metadata": {},
   "outputs": [
    {
     "data": {
      "text/plain": [
       "PythonRDD[12] at RDD at PythonRDD.scala:53"
      ]
     },
     "execution_count": 13,
     "metadata": {},
     "output_type": "execute_result"
    }
   ],
   "source": [
    "categoryReviews = data.map(parse).persist()\n",
    "categoryReviews"
   ]
  },
  {
   "cell_type": "code",
   "execution_count": 14,
   "id": "c6cc4205-4a97-4077-a3f9-53125b7beed9",
   "metadata": {},
   "outputs": [
    {
     "data": {
      "text/plain": [
       "[('중식', 125),\n",
       " ('중식', 235),\n",
       " ('분식', 32),\n",
       " ('분식', 534),\n",
       " ('일식', 223),\n",
       " ('일식', 52),\n",
       " ('일식', 12),\n",
       " ('아시안', 312),\n",
       " ('패스트푸드', 12),\n",
       " ('패스트푸드', 23)]"
      ]
     },
     "execution_count": 14,
     "metadata": {},
     "output_type": "execute_result"
    }
   ],
   "source": [
    "result = categoryReviews.take(10)\n",
    "result"
   ]
  },
  {
   "cell_type": "code",
   "execution_count": 15,
   "id": "efb8b574-922b-48be-a038-e635361a8dc0",
   "metadata": {},
   "outputs": [
    {
     "data": {
      "text/plain": [
       "[('중식', (125, 1)),\n",
       " ('중식', (235, 1)),\n",
       " ('분식', (32, 1)),\n",
       " ('분식', (534, 1)),\n",
       " ('일식', (223, 1)),\n",
       " ('일식', (52, 1)),\n",
       " ('일식', (12, 1)),\n",
       " ('아시안', (312, 1)),\n",
       " ('패스트푸드', (12, 1)),\n",
       " ('패스트푸드', (23, 1))]"
      ]
     },
     "execution_count": 15,
     "metadata": {},
     "output_type": "execute_result"
    }
   ],
   "source": [
    "result2 = categoryReviews.mapValues(lambda x : (x, 1)).collect()\n",
    "result2"
   ]
  },
  {
   "cell_type": "code",
   "execution_count": 16,
   "id": "c3218c3b-d052-4c0c-9180-346f4c6836d3",
   "metadata": {},
   "outputs": [
    {
     "data": {
      "text/plain": [
       "[('중식', 360), ('분식', 566), ('일식', 287), ('아시안', 312), ('패스트푸드', 35)]"
      ]
     },
     "execution_count": 16,
     "metadata": {},
     "output_type": "execute_result"
    }
   ],
   "source": [
    "# 카테고리별 값1 합계 계산 (첫 번째 연산)\n",
    "result_sum = categoryReviews \\\n",
    "    .reduceByKey(lambda a, b: a + b) \\\n",
    "    .collect()\n",
    "result_sum"
   ]
  },
  {
   "cell_type": "code",
   "execution_count": 17,
   "id": "b8463e88-e65c-45f3-924b-065f6818c704",
   "metadata": {},
   "outputs": [
    {
     "data": {
      "text/plain": [
       "[('중식', (125, 1)), ('중식', (235, 1)), ('분식', (32, 1))]"
      ]
     },
     "execution_count": 17,
     "metadata": {},
     "output_type": "execute_result"
    }
   ],
   "source": [
    "# (카테고리, (점수, 1)) 형태로 변환\n",
    "rdd_with_count = categoryReviews.map(lambda x: (x[0], (x[1], 1)))\n",
    "rdd_with_count.take(3)"
   ]
  },
  {
   "cell_type": "code",
   "execution_count": 18,
   "id": "fc6644a9-1ea2-420a-b116-9e21fe73b08e",
   "metadata": {},
   "outputs": [
    {
     "data": {
      "text/plain": [
       "[('중식', (360, 2)), ('분식', (566, 2)), ('일식', (287, 3))]"
      ]
     },
     "execution_count": 18,
     "metadata": {},
     "output_type": "execute_result"
    }
   ],
   "source": [
    "# reduceByKey로 (점수 총합, 개수 총합) 집계\n",
    "rdd_sums = rdd_with_count.reduceByKey(lambda a, b: (a[0] + b[0], a[1] + b[1]))\n",
    "rdd_sums.take(3)"
   ]
  },
  {
   "cell_type": "code",
   "execution_count": 19,
   "id": "9e7ceb18-7d4a-4476-b308-f1548e0bbe37",
   "metadata": {},
   "outputs": [
    {
     "data": {
      "text/plain": [
       "[('중식', 180.0), ('분식', 283.0), ('일식', 95.67), ('아시안', 312.0), ('패스트푸드', 17.5)]"
      ]
     },
     "execution_count": 19,
     "metadata": {},
     "output_type": "execute_result"
    }
   ],
   "source": [
    "# 평균 계산\n",
    "rdd_avg = rdd_sums.mapValues(lambda x: round(x[0] / x[1], 2))\n",
    "\n",
    "# 결과 출력\n",
    "rdd_avg.collect()"
   ]
  },
  {
   "cell_type": "code",
   "execution_count": 20,
   "id": "3973443a-e807-4ecb-946e-0175174be5d2",
   "metadata": {},
   "outputs": [
    {
     "data": {
      "text/plain": [
       "PythonRDD[12] at RDD at PythonRDD.scala:53"
      ]
     },
     "execution_count": 20,
     "metadata": {},
     "output_type": "execute_result"
    }
   ],
   "source": [
    "# 기존 저장 레벨 해제\n",
    "categoryReviews.unpersist()"
   ]
  },
  {
   "cell_type": "code",
   "execution_count": 21,
   "id": "0c27b76a-1b58-44f6-a3b0-13f048883d8e",
   "metadata": {},
   "outputs": [
    {
     "data": {
      "text/plain": [
       "PythonRDD[12] at RDD at PythonRDD.scala:53"
      ]
     },
     "execution_count": 21,
     "metadata": {},
     "output_type": "execute_result"
    }
   ],
   "source": [
    "from pyspark import StorageLevel\n",
    "categoryReviews.persist(StorageLevel.MEMORY_AND_DISK)"
   ]
  },
  {
   "cell_type": "code",
   "execution_count": 22,
   "id": "b0d55804-7f46-4ecc-bcb4-36ac7a3f286b",
   "metadata": {},
   "outputs": [
    {
     "data": {
      "text/plain": [
       "[('중식', 125), ('중식', 235), ('분식', 32)]"
      ]
     },
     "execution_count": 22,
     "metadata": {},
     "output_type": "execute_result"
    }
   ],
   "source": [
    "# 구조 확인하기\n",
    "categoryReviews.take(3)"
   ]
  },
  {
   "cell_type": "markdown",
   "id": "0792b75b-b8f7-46e8-b747-ca213d385077",
   "metadata": {},
   "source": [
    "# Narrow Transformations\n",
    "1:1 변환 -> 하나의 열을 다룰 때 다른 데이터가 필요 없는 경우\n",
    "filter(), map(), flatMap(), sample(), union()\n",
    "\n"
   ]
  },
  {
   "cell_type": "markdown",
   "id": "4013d854-54a0-4039-8128-2b35ea3e7b03",
   "metadata": {},
   "source": [
    "## flatMap()"
   ]
  },
  {
   "cell_type": "code",
   "execution_count": 23,
   "id": "25d410eb-0246-4c21-9120-42dd5b8e9b56",
   "metadata": {},
   "outputs": [
    {
     "data": {
      "text/plain": [
       "[[1, 2], [2, 3], [3, 4]]"
      ]
     },
     "execution_count": 23,
     "metadata": {},
     "output_type": "execute_result"
    }
   ],
   "source": [
    "rdd = sc.parallelize([1, 2, 3])\n",
    "rdd_map = rdd.map(lambda x: [x, x + 1])  # => [[1, 2], [2, 3], [3, 4]]\n",
    "rdd_map.collect()"
   ]
  },
  {
   "cell_type": "code",
   "execution_count": 24,
   "id": "8c995a5c-ed64-49f4-b4ea-8debfb21b562",
   "metadata": {},
   "outputs": [
    {
     "data": {
      "text/plain": [
       "[1, 2, 2, 3, 3, 4]"
      ]
     },
     "execution_count": 24,
     "metadata": {},
     "output_type": "execute_result"
    }
   ],
   "source": [
    "rdd_flatmap = rdd.flatMap(lambda x: [x, x + 1])  # => [1, 2, 2, 3, 3, 4]\n",
    "rdd_flatmap.collect()"
   ]
  },
  {
   "cell_type": "code",
   "execution_count": 25,
   "id": "ab674c22-bd86-4447-ae1e-31c5756b95fe",
   "metadata": {},
   "outputs": [],
   "source": [
    "# 텍스트를 단어로 쪼개서 flatMap()"
   ]
  },
  {
   "cell_type": "code",
   "execution_count": 26,
   "id": "26c48e9c-d26a-4e2a-8018-ad4aa37537e2",
   "metadata": {},
   "outputs": [],
   "source": [
    "movies = [\n",
    "    \"그린 북\",\n",
    "    \"매트릭스\",\n",
    "    \"토이 스토리\",\n",
    "    \"캐스트 어웨이\",\n",
    "    \"포드 V 페라리\",\n",
    "    \"보헤미안 랩소디\",\n",
    "    \"빽 투 더 퓨처\",\n",
    "    \"반지의 제왕\",\n",
    "    \"죽은 시인의 사회\"\n",
    "]"
   ]
  },
  {
   "cell_type": "code",
   "execution_count": 27,
   "id": "57aadcb9-0992-4cf4-97b0-7cc80a9a204a",
   "metadata": {},
   "outputs": [
    {
     "data": {
      "text/plain": [
       "ParallelCollectionRDD[33] at readRDDFromFile at PythonRDD.scala:289"
      ]
     },
     "execution_count": 27,
     "metadata": {},
     "output_type": "execute_result"
    }
   ],
   "source": [
    "moviesRDD = sc.parallelize(movies)\n",
    "moviesRDD"
   ]
  },
  {
   "cell_type": "code",
   "execution_count": 29,
   "id": "de84332b-b701-4105-a299-d47d640d2d2a",
   "metadata": {},
   "outputs": [
    {
     "data": {
      "text/plain": [
       "['그린',\n",
       " '북',\n",
       " '매트릭스',\n",
       " '토이',\n",
       " '스토리',\n",
       " '캐스트',\n",
       " '어웨이',\n",
       " '포드',\n",
       " 'V',\n",
       " '페라리',\n",
       " '보헤미안',\n",
       " '랩소디',\n",
       " '빽',\n",
       " '투',\n",
       " '더',\n",
       " '퓨처',\n",
       " '반지의',\n",
       " '제왕',\n",
       " '죽은',\n",
       " '시인의',\n",
       " '사회']"
      ]
     },
     "execution_count": 29,
     "metadata": {},
     "output_type": "execute_result"
    }
   ],
   "source": [
    "flatMovies = moviesRDD.flatMap(lambda x : x.split(\" \"))  #job 추가 x\n",
    "flatMovies.collect()"
   ]
  },
  {
   "cell_type": "markdown",
   "id": "01cf7464-c53e-4e95-a123-df2c8f78f0f1",
   "metadata": {},
   "source": [
    "# wide transformations"
   ]
  },
  {
   "cell_type": "markdown",
   "id": "363a8373-a609-41d9-852a-b0c66af0bdb6",
   "metadata": {},
   "source": [
    "## 집합 Transformation"
   ]
  },
  {
   "cell_type": "code",
   "execution_count": 31,
   "id": "8bcc1713-1cc6-4756-a40a-4e0238ff0458",
   "metadata": {},
   "outputs": [
    {
     "data": {
      "text/plain": [
       "[4, 5]"
      ]
     },
     "execution_count": 31,
     "metadata": {},
     "output_type": "execute_result"
    }
   ],
   "source": [
    "num1 = sc.parallelize([1, 2, 3, 4, 5])\n",
    "num2 = sc.parallelize([4, 5, 6, 7, 8, 9, 10])\n",
    "num1.intersection(num2).collect()"
   ]
  },
  {
   "cell_type": "code",
   "execution_count": 32,
   "id": "a3e9cbdc-1fe6-4e6e-9da8-746ef75bd07e",
   "metadata": {},
   "outputs": [],
   "source": [
    "# 합집합 구하기 - union"
   ]
  },
  {
   "cell_type": "code",
   "execution_count": 33,
   "id": "35fbf11d-00ca-4445-acda-972377e36956",
   "metadata": {},
   "outputs": [
    {
     "data": {
      "text/plain": [
       "[1, 2, 3, 4, 5, 4, 5, 6, 7, 8, 9, 10]"
      ]
     },
     "execution_count": 33,
     "metadata": {},
     "output_type": "execute_result"
    }
   ],
   "source": [
    "num_union = num1.union(num2)\n",
    "num_union.collect()"
   ]
  },
  {
   "cell_type": "code",
   "execution_count": 34,
   "id": "c5f4605e-b5cf-4171-8549-75b40ba1075d",
   "metadata": {},
   "outputs": [],
   "source": [
    "# 차집합 구하기 - subtract"
   ]
  },
  {
   "cell_type": "code",
   "execution_count": 35,
   "id": "25ed506c-4bb8-4bf2-9641-eac7c08f7c19",
   "metadata": {},
   "outputs": [
    {
     "data": {
      "text/plain": [
       "[1, 2, 3]"
      ]
     },
     "execution_count": 35,
     "metadata": {},
     "output_type": "execute_result"
    }
   ],
   "source": [
    "num1.subtract(num2).collect()"
   ]
  },
  {
   "cell_type": "markdown",
   "id": "7bb2e400-b9b3-4666-84b3-5f76f0f86c42",
   "metadata": {},
   "source": [
    "## 데이터 랜덤 추출 - sample(withReplacement, fraction, seed=None)"
   ]
  },
  {
   "cell_type": "code",
   "execution_count": 48,
   "id": "4bff646c-9014-429b-a0ff-fe27180fb7a8",
   "metadata": {},
   "outputs": [
    {
     "data": {
      "text/plain": [
       "[1, 3, 5, 6, 9]"
      ]
     },
     "execution_count": 48,
     "metadata": {},
     "output_type": "execute_result"
    }
   ],
   "source": [
    "# withReplacement : True -> 중복 추출\n",
    "num_union.sample(True, 0.3).collect()"
   ]
  },
  {
   "cell_type": "code",
   "execution_count": 47,
   "id": "f516ffae-a4aa-482f-8118-1466d5391262",
   "metadata": {},
   "outputs": [
    {
     "data": {
      "text/plain": [
       "[1, 2, 3, 4, 4, 5, 6, 7, 8, 10]"
      ]
     },
     "execution_count": 47,
     "metadata": {},
     "output_type": "execute_result"
    }
   ],
   "source": [
    "# withReplacement : False -> 중복 X\n",
    "num_union.sample(False, 0.7).collect()"
   ]
  },
  {
   "cell_type": "code",
   "execution_count": 51,
   "id": "61e8934b-a9eb-4c95-8fe3-ff7ffcb1c7fe",
   "metadata": {},
   "outputs": [
    {
     "data": {
      "text/plain": [
       "[4, 5, 5, 5, 7]"
      ]
     },
     "execution_count": 51,
     "metadata": {},
     "output_type": "execute_result"
    }
   ],
   "source": [
    "# 랜덤을 고정해서 항상 같은 결과가 나올 수 있도록\n",
    "num_union.sample(True, 0.5, seed=42).collect()"
   ]
  },
  {
   "cell_type": "code",
   "execution_count": 49,
   "id": "dc414a49-0ec8-4d3c-b425-c3cc0cafff14",
   "metadata": {},
   "outputs": [
    {
     "data": {
      "text/plain": [
       "ParallelCollectionRDD[70] at readRDDFromFile at PythonRDD.scala:289"
      ]
     },
     "execution_count": 49,
     "metadata": {},
     "output_type": "execute_result"
    }
   ],
   "source": [
    "foods = sc.parallelize([\n",
    "    \"짜장면\", \"마라탕\", \"짬뽕\", \"떡볶이\", \"쌀국수\", \"짬뽕\", \"짜장면\", \"짜장면\", \"짜장면\", \"라면\", \"우동\", \"라면\"\n",
    "])\n",
    "foods"
   ]
  },
  {
   "cell_type": "code",
   "execution_count": 50,
   "id": "73a872d5-14f0-48d3-92fe-71efe05831ba",
   "metadata": {},
   "outputs": [
    {
     "data": {
      "text/plain": [
       "PythonRDD[75] at RDD at PythonRDD.scala:53"
      ]
     },
     "execution_count": 50,
     "metadata": {},
     "output_type": "execute_result"
    }
   ],
   "source": [
    "# 그룹핑의 기준을 문자열의 첫 번째 글자로 설정\n",
    "foodsGroup = foods.groupBy(lambda x : x[0])\n",
    "foodsGroup"
   ]
  },
  {
   "cell_type": "code",
   "execution_count": 52,
   "id": "654d85c5-05e8-4aaf-94a0-d22de44478c4",
   "metadata": {},
   "outputs": [],
   "source": [
    "res = foodsGroup.collect()"
   ]
  },
  {
   "cell_type": "code",
   "execution_count": 53,
   "id": "1ee198a0-7ba1-4657-b22f-c302ac7e9651",
   "metadata": {},
   "outputs": [
    {
     "name": "stdout",
     "output_type": "stream",
     "text": [
      "짜 ['짜장면', '짜장면', '짜장면', '짜장면']\n",
      "짬 ['짬뽕', '짬뽕']\n",
      "쌀 ['쌀국수']\n",
      "라 ['라면', '라면']\n",
      "우 ['우동']\n",
      "마 ['마라탕']\n",
      "떡 ['떡볶이']\n"
     ]
    }
   ],
   "source": [
    "for (k, v) in res:\n",
    "    print(k, list(v))"
   ]
  },
  {
   "cell_type": "code",
   "execution_count": 54,
   "id": "3b75aa3b-5659-48ee-8050-1ccffe9f5d97",
   "metadata": {},
   "outputs": [],
   "source": [
    "kv_rdd = sc.parallelize([('apple', 1), ('banana', 2), ('cherry', 3)])"
   ]
  },
  {
   "cell_type": "code",
   "execution_count": 55,
   "id": "d0c15989-b029-41d0-a202-99e6d0acd01f",
   "metadata": {},
   "outputs": [
    {
     "data": {
      "text/plain": [
       "PythonRDD[82] at RDD at PythonRDD.scala:53"
      ]
     },
     "execution_count": 55,
     "metadata": {},
     "output_type": "execute_result"
    }
   ],
   "source": [
    "fruitsGroup = kv_rdd.groupBy(lambda x: len(x[0]))\n",
    "fruitsGroup"
   ]
  },
  {
   "cell_type": "code",
   "execution_count": 57,
   "id": "ed33e7df-f446-42d2-b599-6b7f3a65f9a4",
   "metadata": {},
   "outputs": [],
   "source": [
    "response = fruitsGroup.collect()"
   ]
  },
  {
   "cell_type": "code",
   "execution_count": 58,
   "id": "83d8211b-a200-4fd8-8347-c4a6f3fb4bb5",
   "metadata": {},
   "outputs": [
    {
     "name": "stdout",
     "output_type": "stream",
     "text": [
      "6 [('banana', 2), ('cherry', 3)]\n",
      "5 [('apple', 1)]\n"
     ]
    }
   ],
   "source": [
    "for (k, v) in response:\n",
    "    print(k, list(v))"
   ]
  },
  {
   "cell_type": "markdown",
   "id": "a8fefe35-a6c0-4505-bdc1-88ea4ea931cf",
   "metadata": {},
   "source": [
    "# join"
   ]
  },
  {
   "cell_type": "code",
   "execution_count": 63,
   "id": "70f5a306-ae29-40bd-9e0b-ec16932c35a3",
   "metadata": {},
   "outputs": [
    {
     "name": "stdout",
     "output_type": "stream",
     "text": [
      "[('apple', (2, 'fruit')), ('banana', (1, 'fruit'))]\n",
      "Joined RDD: [('apple', (2, 'fruit')), ('banana', (1, 'fruit'))]\n"
     ]
    }
   ],
   "source": [
    "# 두 RDD 조인하기\n",
    "rdd1 = sc.parallelize([(\"apple\", 2), (\"banana\", 1)])\n",
    "rdd2 = sc.parallelize([(\"apple\", \"fruit\"), (\"banana\", \"fruit\"), (\"carrot\", \"vegetable\")])\n",
    "\n",
    "# 두 RDD 조인\n",
    "joined_rdd = rdd1.join(rdd2)\n",
    "print(joined_rdd.collect())\n",
    "# 출력 결과: [('apple', (2, 'fruit')), ('banana', (1, 'fruit'))]\n",
    "\n",
    "print(\"Joined RDD:\", joined_rdd.collect())  # [(\"apple\", (2, \"fruit\")), (\"banana\", (1, \"fruit\"))]"
   ]
  },
  {
   "cell_type": "code",
   "execution_count": 64,
   "id": "d3a1e947-57fc-4800-ad96-7c9f779628fd",
   "metadata": {},
   "outputs": [
    {
     "name": "stdout",
     "output_type": "stream",
     "text": [
      "[('apple', (2, 'fruit')), ('banana', (1, 'fruit'))]\n",
      "[('apple', (2, 'fruit')), ('banana', (1, 'fruit')), ('carrot', (None, 'vegetable'))]\n",
      "[('banana', 1)]\n"
     ]
    }
   ],
   "source": [
    "# 왼쪽 외부 조인 (leftOuterJoin)\n",
    "left_joined = rdd1.leftOuterJoin(rdd2)\n",
    "print(left_joined.collect())\n",
    "# 출력 결과: [('apple', (2, 'fruit')), ('banana', (1, 'fruit'))]\n",
    "\n",
    "# 오른쪽 외부 조인 (rightOuterJoin)\n",
    "right_joined = rdd1.rightOuterJoin(rdd2)\n",
    "print(right_joined.collect())\n",
    "# 출력 결과: [('apple', (2, 'fruit')), ('banana', (1, 'fruit')), ('carrot', (None, 'vegetable'))]\n",
    "\n",
    "# subtractByKey 연산\n",
    "subtract_result = rdd1.subtractByKey(sc.parallelize([(\"apple\", \"any\")]))\n",
    "print(subtract_result.collect())\n",
    "# 출력 결과: [('banana', 1)]"
   ]
  },
  {
   "cell_type": "code",
   "execution_count": 66,
   "id": "0c9dbdcb-04f2-4a40-9a42-c49a45b56b9d",
   "metadata": {},
   "outputs": [],
   "source": [
    "spark.stop()"
   ]
  },
  {
   "cell_type": "code",
   "execution_count": null,
   "id": "bbb37155-39c8-458a-ba09-d46fd85c87e2",
   "metadata": {},
   "outputs": [],
   "source": []
  }
 ],
 "metadata": {
  "kernelspec": {
   "display_name": "Python 3 (ipykernel)",
   "language": "python",
   "name": "python3"
  },
  "language_info": {
   "codemirror_mode": {
    "name": "ipython",
    "version": 3
   },
   "file_extension": ".py",
   "mimetype": "text/x-python",
   "name": "python",
   "nbconvert_exporter": "python",
   "pygments_lexer": "ipython3",
   "version": "3.11.6"
  }
 },
 "nbformat": 4,
 "nbformat_minor": 5
}
