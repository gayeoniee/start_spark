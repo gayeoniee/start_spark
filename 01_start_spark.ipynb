{
 "cells": [
  {
   "cell_type": "code",
   "execution_count": 1,
   "id": "2ef10c61-ef9c-497f-8002-204501617fe5",
   "metadata": {},
   "outputs": [
    {
     "name": "stdout",
     "output_type": "stream",
     "text": [
      "hello\n"
     ]
    }
   ],
   "source": [
    "print('hello')"
   ]
  },
  {
   "cell_type": "code",
   "execution_count": 2,
   "id": "d6d3c9b4-ce43-4eaa-810f-337deff3a1cc",
   "metadata": {},
   "outputs": [
    {
     "name": "stdout",
     "output_type": "stream",
     "text": [
      "/opt/conda/bin/python\n"
     ]
    }
   ],
   "source": [
    "! which python"
   ]
  },
  {
   "cell_type": "code",
   "execution_count": 3,
   "id": "5cd7a0b7-fdfc-478a-9c86-0ad9793eed3c",
   "metadata": {},
   "outputs": [
    {
     "name": "stdout",
     "output_type": "stream",
     "text": [
      "Python 3.11.6\n"
     ]
    }
   ],
   "source": [
    "!python --version"
   ]
  },
  {
   "cell_type": "code",
   "execution_count": 4,
   "id": "9b3638c0-38ca-48f7-8fa0-5359e326ef33",
   "metadata": {},
   "outputs": [
    {
     "name": "stdout",
     "output_type": "stream",
     "text": [
      "openjdk version \"17.0.8.1\" 2023-08-24\n",
      "OpenJDK Runtime Environment (build 17.0.8.1+1-Ubuntu-0ubuntu122.04)\n",
      "OpenJDK 64-Bit Server VM (build 17.0.8.1+1-Ubuntu-0ubuntu122.04, mixed mode, sharing)\n"
     ]
    }
   ],
   "source": [
    "!java -version"
   ]
  },
  {
   "cell_type": "code",
   "execution_count": 5,
   "id": "358e13a5-d053-433b-ad52-3635bec292e8",
   "metadata": {},
   "outputs": [
    {
     "name": "stdout",
     "output_type": "stream",
     "text": [
      "/usr/bin/java\n"
     ]
    }
   ],
   "source": [
    "!which java"
   ]
  },
  {
   "cell_type": "code",
   "execution_count": 6,
   "id": "02a702ef-951d-4b20-9b04-e23ad137fab3",
   "metadata": {},
   "outputs": [
    {
     "name": "stdout",
     "output_type": "stream",
     "text": [
      "Name: pyspark\n",
      "Version: 3.5.0\n",
      "Summary: Apache Spark Python API\n",
      "Home-page: https://github.com/apache/spark/tree/master/python\n",
      "Author: Spark Developers\n",
      "Author-email: dev@spark.apache.org\n",
      "License: http://www.apache.org/licenses/LICENSE-2.0\n",
      "Location: /usr/local/spark/python\n",
      "Requires: py4j\n",
      "Required-by: \n",
      "Note: you may need to restart the kernel to use updated packages.\n"
     ]
    }
   ],
   "source": [
    "pip show pyspark"
   ]
  },
  {
   "cell_type": "code",
   "execution_count": 7,
   "id": "c642e86a-5009-4377-a0b9-95d2c81851e0",
   "metadata": {},
   "outputs": [
    {
     "data": {
      "text/plain": [
       "'/usr/local/spark'"
      ]
     },
     "execution_count": 7,
     "metadata": {},
     "output_type": "execute_result"
    }
   ],
   "source": [
    "# SPARK_HOME\n",
    "import os\n",
    "os.environ.get('SPARK_HOME')"
   ]
  },
  {
   "cell_type": "code",
   "execution_count": 8,
   "id": "90298688-85af-4aee-b511-3f7bb5d0b92a",
   "metadata": {},
   "outputs": [],
   "source": [
    "# JAVA_HOME\n",
    "os.environ.get('JAVA_HOME')"
   ]
  },
  {
   "cell_type": "code",
   "execution_count": 9,
   "id": "50bdae84-d010-43f5-948d-d4076c0dc811",
   "metadata": {},
   "outputs": [
    {
     "data": {
      "text/plain": [
       "'/usr/local/spark/python/lib/py4j-0.10.9.7-src.zip:/usr/local/spark/python:'"
      ]
     },
     "execution_count": 9,
     "metadata": {},
     "output_type": "execute_result"
    }
   ],
   "source": [
    "# PYTHONPATH\n",
    "os.environ.get('PYTHONPATH')"
   ]
  },
  {
   "cell_type": "code",
   "execution_count": 10,
   "id": "f19556c9-aedd-44b5-b68b-b2a654ea5b07",
   "metadata": {},
   "outputs": [],
   "source": [
    "import pyspark"
   ]
  },
  {
   "cell_type": "code",
   "execution_count": 11,
   "id": "90105bdc-07fc-4b51-b487-af6975929d57",
   "metadata": {},
   "outputs": [],
   "source": [
    "from pyspark.sql import SparkSession\n",
    "# SparkContext.SparkSession 객체\n",
    "spark = SparkSession.builder.appName('pyspark example1').getOrCreate()  # chaining"
   ]
  },
  {
   "cell_type": "code",
   "execution_count": 12,
   "id": "4cf3f5f0-6ca2-4212-ae4c-67237a7bd7e1",
   "metadata": {},
   "outputs": [
    {
     "data": {
      "text/html": [
       "\n",
       "            <div>\n",
       "                <p><b>SparkSession - in-memory</b></p>\n",
       "                \n",
       "        <div>\n",
       "            <p><b>SparkContext</b></p>\n",
       "\n",
       "            <p><a href=\"http://91cc92bf5554:4040\">Spark UI</a></p>\n",
       "\n",
       "            <dl>\n",
       "              <dt>Version</dt>\n",
       "                <dd><code>v3.5.0</code></dd>\n",
       "              <dt>Master</dt>\n",
       "                <dd><code>local[*]</code></dd>\n",
       "              <dt>AppName</dt>\n",
       "                <dd><code>pyspark example1</code></dd>\n",
       "            </dl>\n",
       "        </div>\n",
       "        \n",
       "            </div>\n",
       "        "
      ],
      "text/plain": [
       "<pyspark.sql.session.SparkSession at 0x7fa8a3556310>"
      ]
     },
     "execution_count": 12,
     "metadata": {},
     "output_type": "execute_result"
    }
   ],
   "source": [
    "spark"
   ]
  },
  {
   "cell_type": "code",
   "execution_count": 13,
   "id": "b8f921f2-f90d-4fcf-8aa7-862e8d2b4a62",
   "metadata": {},
   "outputs": [],
   "source": [
    "spark.stop()"
   ]
  },
  {
   "cell_type": "code",
   "execution_count": null,
   "id": "3b239dfe-4883-478f-946c-d2c5fdc1d79b",
   "metadata": {},
   "outputs": [],
   "source": []
  },
  {
   "cell_type": "code",
   "execution_count": 14,
   "id": "95d006d1-3368-47c8-81f6-bcccc0d129f5",
   "metadata": {},
   "outputs": [],
   "source": [
    "spark = SparkSession.builder.appName('pyspark example1').getOrCreate() # 있으면 이미 있던거 그대로 가져옴"
   ]
  },
  {
   "cell_type": "code",
   "execution_count": 15,
   "id": "f0fc0a39-2754-4f9a-b89c-37b51c66af11",
   "metadata": {},
   "outputs": [
    {
     "data": {
      "text/html": [
       "\n",
       "            <div>\n",
       "                <p><b>SparkSession - in-memory</b></p>\n",
       "                \n",
       "        <div>\n",
       "            <p><b>SparkContext</b></p>\n",
       "\n",
       "            <p><a href=\"http://91cc92bf5554:4040\">Spark UI</a></p>\n",
       "\n",
       "            <dl>\n",
       "              <dt>Version</dt>\n",
       "                <dd><code>v3.5.0</code></dd>\n",
       "              <dt>Master</dt>\n",
       "                <dd><code>local[*]</code></dd>\n",
       "              <dt>AppName</dt>\n",
       "                <dd><code>pyspark example1</code></dd>\n",
       "            </dl>\n",
       "        </div>\n",
       "        \n",
       "            </div>\n",
       "        "
      ],
      "text/plain": [
       "<pyspark.sql.session.SparkSession at 0x7fa8a357b190>"
      ]
     },
     "execution_count": 15,
     "metadata": {},
     "output_type": "execute_result"
    }
   ],
   "source": [
    "spark"
   ]
  },
  {
   "cell_type": "code",
   "execution_count": 16,
   "id": "372913c2-f195-4002-a45c-3fdc59f800d2",
   "metadata": {},
   "outputs": [
    {
     "data": {
      "text/plain": [
       "list"
      ]
     },
     "execution_count": 16,
     "metadata": {},
     "output_type": "execute_result"
    }
   ],
   "source": [
    "data = [('Alice', 1), ('Bob', 2), ('Charlie', 3)]\n",
    "type(data)"
   ]
  },
  {
   "cell_type": "code",
   "execution_count": 17,
   "id": "8b2efa29-752a-4195-a9f3-6080401930d9",
   "metadata": {},
   "outputs": [
    {
     "data": {
      "text/plain": [
       "DataFrame[Name: string, Value: bigint]"
      ]
     },
     "execution_count": 17,
     "metadata": {},
     "output_type": "execute_result"
    }
   ],
   "source": [
    "# DataFrame 객체를 생성 -> pandas의 데이터프레임이 아님\n",
    "# pyspark의 분산 객체\n",
    "data1 = spark.createDataFrame(data, ['Name', 'Value'])\n",
    "data1"
   ]
  },
  {
   "cell_type": "markdown",
   "id": "6d1859e2-1058-4da5-90b1-5f68f426cb8b",
   "metadata": {},
   "source": [
    "data1.show()  # show()는 데이터프레임의 함수"
   ]
  },
  {
   "cell_type": "code",
   "execution_count": 18,
   "id": "eccda5ae-bed8-48e8-8f51-1e76cdc8e6f9",
   "metadata": {},
   "outputs": [
    {
     "name": "stdout",
     "output_type": "stream",
     "text": [
      "+----+-----+\n",
      "|Name|Value|\n",
      "+----+-----+\n",
      "| Bob|    2|\n",
      "+----+-----+\n",
      "\n"
     ]
    }
   ],
   "source": [
    "data1.filter(data1.Name == \"Bob\").show()"
   ]
  },
  {
   "cell_type": "code",
   "execution_count": 19,
   "id": "79567994-0462-4038-9467-9639f59dbfe1",
   "metadata": {},
   "outputs": [
    {
     "name": "stdout",
     "output_type": "stream",
     "text": [
      "+-------+-----+\n",
      "|   Name|Value|\n",
      "+-------+-----+\n",
      "|Charlie|    3|\n",
      "+-------+-----+\n",
      "\n"
     ]
    }
   ],
   "source": [
    "data1.filter(data1.Value > 2).show()"
   ]
  },
  {
   "cell_type": "code",
   "execution_count": 20,
   "id": "b5de844d-2a6c-45e8-9429-3db22113c1bc",
   "metadata": {},
   "outputs": [],
   "source": [
    "data1.createOrReplaceTempView('people')  # 뷰 생성"
   ]
  },
  {
   "cell_type": "code",
   "execution_count": 21,
   "id": "9a3b48bb-9bb6-42d4-9a9f-a1309bb89a70",
   "metadata": {},
   "outputs": [
    {
     "name": "stdout",
     "output_type": "stream",
     "text": [
      "+-------+-----+\n",
      "|   Name|Value|\n",
      "+-------+-----+\n",
      "|  Alice|    1|\n",
      "|    Bob|    2|\n",
      "|Charlie|    3|\n",
      "+-------+-----+\n",
      "\n"
     ]
    }
   ],
   "source": [
    "spark.sql('select * from people').show()  # sql문으로 조회하기"
   ]
  },
  {
   "cell_type": "code",
   "execution_count": 22,
   "id": "5151684e-9c94-48be-af45-2d68b102a50c",
   "metadata": {},
   "outputs": [
    {
     "name": "stdout",
     "output_type": "stream",
     "text": [
      "+----+-----+\n",
      "|Name|Value|\n",
      "+----+-----+\n",
      "| Bob|    2|\n",
      "+----+-----+\n",
      "\n"
     ]
    }
   ],
   "source": [
    "spark.sql('select * from people where Name=\"Bob\"').show()"
   ]
  },
  {
   "cell_type": "code",
   "execution_count": 23,
   "id": "c3717123-2d62-44f9-9f27-6b91b2ca54ce",
   "metadata": {},
   "outputs": [
    {
     "name": "stdout",
     "output_type": "stream",
     "text": [
      "+-------+-----+\n",
      "|   Name|Value|\n",
      "+-------+-----+\n",
      "|Charlie|    3|\n",
      "+-------+-----+\n",
      "\n"
     ]
    }
   ],
   "source": [
    "spark.sql('select * from people where Value > 2').show()"
   ]
  },
  {
   "cell_type": "code",
   "execution_count": null,
   "id": "055a0884-2c80-484e-bf1c-f2348a26502e",
   "metadata": {},
   "outputs": [],
   "source": []
  },
  {
   "cell_type": "markdown",
   "id": "7badef85-bd69-4b9f-913e-e1bd8afdee8e",
   "metadata": {},
   "source": [
    "# RDD 객체 생성"
   ]
  },
  {
   "cell_type": "code",
   "execution_count": 24,
   "id": "25973cfd-3906-4173-ae4c-475f0efb4a79",
   "metadata": {},
   "outputs": [],
   "source": [
    "spark = SparkSession.builder.appName('pyspark example1').getOrCreate()"
   ]
  },
  {
   "cell_type": "code",
   "execution_count": 25,
   "id": "711b83bf-af15-43bb-a8cd-2f723d7f7200",
   "metadata": {},
   "outputs": [
    {
     "data": {
      "text/plain": [
       "ParallelCollectionRDD[15] at readRDDFromFile at PythonRDD.scala:289"
      ]
     },
     "execution_count": 25,
     "metadata": {},
     "output_type": "execute_result"
    }
   ],
   "source": [
    "rdd = spark.sparkContext.parallelize([1, 2, 3, 4, 5]) # 병렬로 관리되는 rdd 객체\n",
    "rdd"
   ]
  },
  {
   "cell_type": "code",
   "execution_count": 26,
   "id": "b5c2dc9d-bab4-43de-9ffa-033721d793f9",
   "metadata": {},
   "outputs": [
    {
     "data": {
      "text/plain": [
       "[1, 2, 3, 4, 5]"
      ]
     },
     "execution_count": 26,
     "metadata": {},
     "output_type": "execute_result"
    }
   ],
   "source": [
    "rdd.take(5)  # rdd 객체 출력 함수 (갯수 지정 필요!)"
   ]
  },
  {
   "cell_type": "code",
   "execution_count": 27,
   "id": "82c0801a-2000-43a6-8d65-f05af0cdba80",
   "metadata": {},
   "outputs": [
    {
     "data": {
      "text/plain": [
       "PythonRDD[18] at RDD at PythonRDD.scala:53"
      ]
     },
     "execution_count": 27,
     "metadata": {},
     "output_type": "execute_result"
    }
   ],
   "source": [
    "# map 연산 : rdd 값으로 연산을 할 때 사용\n",
    "squared_rdd = rdd.map(lambda x: x*x)\n",
    "squared_rdd"
   ]
  },
  {
   "cell_type": "code",
   "execution_count": 28,
   "id": "1b4fcbc5-b4df-4ede-add2-de54fc64ecb0",
   "metadata": {},
   "outputs": [
    {
     "data": {
      "text/plain": [
       "[1, 2, 3]"
      ]
     },
     "execution_count": 28,
     "metadata": {},
     "output_type": "execute_result"
    }
   ],
   "source": [
    "rdd.take(3)  # 그대로 있음"
   ]
  },
  {
   "cell_type": "code",
   "execution_count": 29,
   "id": "eeb9e7b6-bf97-480f-b3bb-912a78af8937",
   "metadata": {},
   "outputs": [
    {
     "data": {
      "text/plain": [
       "[1, 4, 9]"
      ]
     },
     "execution_count": 29,
     "metadata": {},
     "output_type": "execute_result"
    }
   ],
   "source": [
    "squared_rdd.take(3)"
   ]
  },
  {
   "cell_type": "code",
   "execution_count": 30,
   "id": "0226d324-a8ce-4dff-8d2b-dc8d5a0f2671",
   "metadata": {},
   "outputs": [
    {
     "data": {
      "text/plain": [
       "[1, 4, 9, 16, 25]"
      ]
     },
     "execution_count": 30,
     "metadata": {},
     "output_type": "execute_result"
    }
   ],
   "source": [
    "# 한꺼번에 다 가져올 때 (전체)\n",
    "squared_rdd.collect()"
   ]
  },
  {
   "cell_type": "markdown",
   "id": "0d73c07f-8f7c-4793-aa1b-a2586cac2572",
   "metadata": {},
   "source": []
  },
  {
   "cell_type": "markdown",
   "id": "214cb0fe-6b84-4c2b-a715-43aee9e02972",
   "metadata": {},
   "source": [
    "# MLlib"
   ]
  },
  {
   "cell_type": "code",
   "execution_count": 31,
   "id": "a0b54bf2-332a-4e8e-b880-2677a6cbdcc4",
   "metadata": {},
   "outputs": [],
   "source": [
    "from pyspark.ml.regression import LinearRegression"
   ]
  },
  {
   "cell_type": "code",
   "execution_count": 32,
   "id": "27b2c326-a3bb-4b4e-baa2-21bceaeabec8",
   "metadata": {},
   "outputs": [],
   "source": [
    "import numpy as np"
   ]
  },
  {
   "cell_type": "code",
   "execution_count": 33,
   "id": "79bc34bb-ab46-42fe-be41-b2685aa09a7f",
   "metadata": {},
   "outputs": [],
   "source": [
    "from pyspark.ml.feature import VectorAssembler  # feature를 벡터로 만들어줌"
   ]
  },
  {
   "cell_type": "code",
   "execution_count": 34,
   "id": "0798ec7e-9d31-477a-98b6-ecf2b2ad8967",
   "metadata": {},
   "outputs": [
    {
     "data": {
      "text/plain": [
       "DataFrame[Name: string, Age: bigint]"
      ]
     },
     "execution_count": 34,
     "metadata": {},
     "output_type": "execute_result"
    }
   ],
   "source": [
    "data_age = [('Alice', 17), ('Bob', 30), ('Charlie', 23)]\n",
    "data2 = spark.createDataFrame(data_age, ['Name', 'Age'])\n",
    "data2"
   ]
  },
  {
   "cell_type": "code",
   "execution_count": 35,
   "id": "e4fdfd77-cfd5-40e0-8c6c-65058e22e98f",
   "metadata": {},
   "outputs": [
    {
     "data": {
      "text/plain": [
       "DataFrame[Name: string, Age: bigint, feature: vector]"
      ]
     },
     "execution_count": 35,
     "metadata": {},
     "output_type": "execute_result"
    }
   ],
   "source": [
    "assembler = VectorAssembler(inputCols = ['Age'], outputCol = 'feature')\n",
    "vector_df = assembler.transform(data2)\n",
    "vector_df"
   ]
  },
  {
   "cell_type": "code",
   "execution_count": 36,
   "id": "2c7e0b50-6cdc-4b37-961e-f25be9966afd",
   "metadata": {},
   "outputs": [],
   "source": [
    "lr = LinearRegression(featuresCol = 'feature', labelCol = 'Age')\n",
    "model = lr.fit(vector_df)"
   ]
  },
  {
   "cell_type": "code",
   "execution_count": 37,
   "id": "cd25943d-ef42-402a-b54e-f0b076c7dc81",
   "metadata": {},
   "outputs": [
    {
     "data": {
      "text/plain": [
       "DataFrame[Name: string, Age: bigint, feature: vector, prediction: double]"
      ]
     },
     "execution_count": 37,
     "metadata": {},
     "output_type": "execute_result"
    }
   ],
   "source": [
    "pred = model.transform(vector_df)\n",
    "pred"
   ]
  },
  {
   "cell_type": "code",
   "execution_count": 38,
   "id": "dcd8ef13-e796-4d23-a57c-4959d2c31573",
   "metadata": {},
   "outputs": [
    {
     "name": "stdout",
     "output_type": "stream",
     "text": [
      "+-------+---+-------+------------------+\n",
      "|   Name|Age|feature|        prediction|\n",
      "+-------+---+-------+------------------+\n",
      "|  Alice| 17| [17.0]|16.999999999999975|\n",
      "|    Bob| 30| [30.0]|30.000000000000032|\n",
      "|Charlie| 23| [23.0]|              23.0|\n",
      "+-------+---+-------+------------------+\n",
      "\n"
     ]
    }
   ],
   "source": [
    "pred.show()"
   ]
  },
  {
   "cell_type": "code",
   "execution_count": 40,
   "id": "45f9d4e2-bae0-434a-a347-a53070b213a3",
   "metadata": {},
   "outputs": [],
   "source": [
    "spark.stop()"
   ]
  },
  {
   "cell_type": "markdown",
   "id": "96c71f9c-1d12-446c-b7a3-a76237240f48",
   "metadata": {},
   "source": [
    "# Streaming"
   ]
  },
  {
   "cell_type": "code",
   "execution_count": null,
   "id": "1bce6043-f321-44dc-9323-67b51a9b4b8d",
   "metadata": {},
   "outputs": [],
   "source": []
  },
  {
   "cell_type": "code",
   "execution_count": 39,
   "id": "d3a9d73d-7e8d-4b0a-931b-6fd5bf622817",
   "metadata": {},
   "outputs": [],
   "source": [
    "from pyspark.sql.functions import explode\n",
    "from pyspark.sql.functions import split"
   ]
  },
  {
   "cell_type": "code",
   "execution_count": 41,
   "id": "de23ac6c-a486-48d9-987a-a43777ec64c0",
   "metadata": {},
   "outputs": [],
   "source": [
    "spark = SparkSession.builder.appName('pyspark example1').getOrCreate()"
   ]
  },
  {
   "cell_type": "code",
   "execution_count": null,
   "id": "61328ecf-cdd4-4e15-b3fe-69738161cd0f",
   "metadata": {},
   "outputs": [],
   "source": [
    "lines = spark.readStream.format('socket')\\\n",
    "        .option('host', 'localhost')\\\n",
    "        .option('port', 9999)\\\n",
    "        .load()  # STREAMING DATA"
   ]
  },
  {
   "cell_type": "code",
   "execution_count": null,
   "id": "f08b5a90-483b-4420-bd89-729b12d7bfcb",
   "metadata": {},
   "outputs": [],
   "source": [
    "words = lines.select(explode(split(lines.value, ' ')).alias('word')"
   ]
  },
  {
   "cell_type": "code",
   "execution_count": null,
   "id": "a2f473ee-9204-4b65-a07a-0d232db56c03",
   "metadata": {},
   "outputs": [],
   "source": [
    "words"
   ]
  },
  {
   "cell_type": "code",
   "execution_count": 42,
   "id": "4256f7c2-9424-423e-ae3d-ba7122321c0b",
   "metadata": {},
   "outputs": [],
   "source": [
    "spark.stop()"
   ]
  },
  {
   "cell_type": "code",
   "execution_count": null,
   "id": "6af32b1d-1eb1-494e-af62-03f59862b256",
   "metadata": {},
   "outputs": [],
   "source": []
  },
  {
   "cell_type": "code",
   "execution_count": null,
   "id": "2c10235e-073c-4621-b7b0-b627cd310d50",
   "metadata": {},
   "outputs": [],
   "source": []
  }
 ],
 "metadata": {
  "kernelspec": {
   "display_name": "Python 3 (ipykernel)",
   "language": "python",
   "name": "python3"
  },
  "language_info": {
   "codemirror_mode": {
    "name": "ipython",
    "version": 3
   },
   "file_extension": ".py",
   "mimetype": "text/x-python",
   "name": "python",
   "nbconvert_exporter": "python",
   "pygments_lexer": "ipython3",
   "version": "3.11.6"
  }
 },
 "nbformat": 4,
 "nbformat_minor": 5
}
