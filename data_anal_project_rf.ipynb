{
 "cells": [
  {
   "cell_type": "code",
   "execution_count": 1,
   "id": "fd1ab1cb-4e93-4d92-baa6-9120368c17c6",
   "metadata": {},
   "outputs": [],
   "source": [
    "from pyspark.sql import SparkSession\n",
    "MAX_MEMORY = '8g'\n",
    "spark = SparkSession.builder.appName('UK-road-safety-pred')\\\n",
    "                    .config('spark.driver.memory', MAX_MEMORY)\\\n",
    "                    .config('spark.executor.memory', MAX_MEMORY)\\\n",
    "                    .getOrCreate()"
   ]
  },
  {
   "cell_type": "code",
   "execution_count": 2,
   "id": "3ed08659-1080-4a1a-b9a8-c10c47932540",
   "metadata": {},
   "outputs": [
    {
     "name": "stdout",
     "output_type": "stream",
     "text": [
      "root\n",
      " |-- Accident_Index: string (nullable = true)\n",
      " |-- 1st_Road_Class: string (nullable = true)\n",
      " |-- 1st_Road_Number: string (nullable = true)\n",
      " |-- 2nd_Road_Class: string (nullable = true)\n",
      " |-- 2nd_Road_Number: string (nullable = true)\n",
      " |-- Accident_Severity: string (nullable = true)\n",
      " |-- Carriageway_Hazards: string (nullable = true)\n",
      " |-- Date: date (nullable = true)\n",
      " |-- Day_of_Week: string (nullable = true)\n",
      " |-- Did_Police_Officer_Attend_Scene_of_Accident: string (nullable = true)\n",
      " |-- Junction_Control: string (nullable = true)\n",
      " |-- Junction_Detail: string (nullable = true)\n",
      " |-- Latitude: string (nullable = true)\n",
      " |-- Light_Conditions: string (nullable = true)\n",
      " |-- Local_Authority_(District): string (nullable = true)\n",
      " |-- Local_Authority_(Highway): string (nullable = true)\n",
      " |-- Location_Easting_OSGR: string (nullable = true)\n",
      " |-- Location_Northing_OSGR: string (nullable = true)\n",
      " |-- Longitude: string (nullable = true)\n",
      " |-- LSOA_of_Accident_Location: string (nullable = true)\n",
      " |-- Number_of_Casualties: integer (nullable = true)\n",
      " |-- Number_of_Vehicles: integer (nullable = true)\n",
      " |-- Pedestrian_Crossing-Human_Control: string (nullable = true)\n",
      " |-- Pedestrian_Crossing-Physical_Facilities: string (nullable = true)\n",
      " |-- Police_Force: string (nullable = true)\n",
      " |-- Road_Surface_Conditions: string (nullable = true)\n",
      " |-- Road_Type: string (nullable = true)\n",
      " |-- Special_Conditions_at_Site: string (nullable = true)\n",
      " |-- Speed_limit: string (nullable = true)\n",
      " |-- Time: timestamp (nullable = true)\n",
      " |-- Urban_or_Rural_Area: string (nullable = true)\n",
      " |-- Weather_Conditions: string (nullable = true)\n",
      " |-- Year: integer (nullable = true)\n",
      " |-- InScotland: string (nullable = true)\n",
      "\n",
      "root\n",
      " |-- Accident_Index: string (nullable = true)\n",
      " |-- Age_Band_of_Driver: string (nullable = true)\n",
      " |-- Age_of_Vehicle: string (nullable = true)\n",
      " |-- Driver_Home_Area_Type: string (nullable = true)\n",
      " |-- Driver_IMD_Decile: string (nullable = true)\n",
      " |-- Engine_Capacity_.CC.: string (nullable = true)\n",
      " |-- Hit_Object_in_Carriageway: string (nullable = true)\n",
      " |-- Hit_Object_off_Carriageway: string (nullable = true)\n",
      " |-- Journey_Purpose_of_Driver: string (nullable = true)\n",
      " |-- Junction_Location: string (nullable = true)\n",
      " |-- make: string (nullable = true)\n",
      " |-- model: string (nullable = true)\n",
      " |-- Propulsion_Code: string (nullable = true)\n",
      " |-- Sex_of_Driver: string (nullable = true)\n",
      " |-- Skidding_and_Overturning: string (nullable = true)\n",
      " |-- Towing_and_Articulation: string (nullable = true)\n",
      " |-- Vehicle_Leaving_Carriageway: string (nullable = true)\n",
      " |-- Vehicle_Location.Restricted_Lane: string (nullable = true)\n",
      " |-- Vehicle_Manoeuvre: string (nullable = true)\n",
      " |-- Vehicle_Reference: integer (nullable = true)\n",
      " |-- Vehicle_Type: string (nullable = true)\n",
      " |-- Was_Vehicle_Left_Hand_Drive: string (nullable = true)\n",
      " |-- X1st_Point_of_Impact: string (nullable = true)\n",
      " |-- Year: integer (nullable = true)\n",
      "\n"
     ]
    },
    {
     "data": {
      "text/plain": [
       "(None, None)"
      ]
     },
     "execution_count": 2,
     "metadata": {},
     "output_type": "execute_result"
    }
   ],
   "source": [
    "import os\n",
    "cwd = os.getcwd()\n",
    "a_data_path = os.path.join(cwd, 'learning_spark_data', 'Accident_Information.csv')\n",
    "v_data_path = os.path.join(cwd, 'learning_spark_data', 'Vehicle_Information.csv')\n",
    "\n",
    "a_file_path = f\"file:///{a_data_path.replace(os.sep, '/')}\"\n",
    "v_file_path = f\"file:///{v_data_path.replace(os.sep, '/')}\"\n",
    "\n",
    "accident_df = spark.read.csv(a_file_path, inferSchema=True, header=True)\n",
    "vehicle_df = spark.read.csv(v_file_path, inferSchema=True, header=True)\n",
    "\n",
    "accident_df.printSchema(), vehicle_df.printSchema()"
   ]
  },
  {
   "cell_type": "code",
   "execution_count": 3,
   "id": "d84543ed-6ed3-47c7-b922-b3f6239f0b9a",
   "metadata": {},
   "outputs": [],
   "source": [
    "vehicle_df = vehicle_df.withColumnRenamed(\"Engine_Capacity_.CC.\", \"Engine_Capacity\")"
   ]
  },
  {
   "cell_type": "code",
   "execution_count": 4,
   "id": "f529fda4-82dc-48ef-9b03-aa2d00cce556",
   "metadata": {},
   "outputs": [],
   "source": [
    "accident_df.createOrReplaceTempView(\"accident\")\n",
    "vehicle_df.createOrReplaceTempView(\"vehicle\")"
   ]
  },
  {
   "cell_type": "code",
   "execution_count": 5,
   "id": "d7bda7ee-f5ff-4ee6-b102-0188aaa6bdf6",
   "metadata": {},
   "outputs": [],
   "source": [
    "query = '''\n",
    "    SELECT\n",
    "        a.Accident_Index,\n",
    "        a.1st_Road_Class,\n",
    "        a.Date,\n",
    "        a.Day_of_Week,\n",
    "        a.Accident_Severity,\n",
    "        a.Did_Police_Officer_Attend_Scene_of_Accident,\n",
    "        a.Road_Type,\n",
    "        a.Speed_limit,\n",
    "        a.Urban_or_Rural_Area,\n",
    "        v.Age_Band_of_Driver,\n",
    "        v.Sex_of_Driver,\n",
    "        v.Vehicle_Type,\n",
    "        v.Age_of_Vehicle,\n",
    "        v.Engine_Capacity,\n",
    "        v.Driver_Home_Area_Type\n",
    "    FROM accident a\n",
    "    JOIN vehicle v\n",
    "    ON a.Accident_Index = v.Accident_Index\n",
    "'''\n",
    "\n",
    "join_df = spark.sql(query)"
   ]
  },
  {
   "cell_type": "code",
   "execution_count": 6,
   "id": "eea7b78f-375e-4fb0-8f3e-ea664ef21d8a",
   "metadata": {},
   "outputs": [],
   "source": [
    "# 전처리\n",
    "cat_columns = [\n",
    "    \"1st_Road_Class\", \"Day_of_Week\", \"Did_Police_Officer_Attend_Scene_of_Accident\",\n",
    "    \"Road_Type\", \"Urban_or_Rural_Area\", \"Age_Band_of_Driver\", \"Sex_of_Driver\",\n",
    "    \"Vehicle_Type\", \"Driver_Home_Area_Type\"\n",
    "]\n",
    "\n",
    "join_df = join_df.fillna({cat: \"Unknown\" for cat in cat_columns})"
   ]
  },
  {
   "cell_type": "code",
   "execution_count": 7,
   "id": "1cad955b-653f-4f90-92c1-cdf93f4b724c",
   "metadata": {},
   "outputs": [],
   "source": [
    "from pyspark.sql.functions import avg, col\n",
    "\n",
    "join_df = join_df.withColumn(\"Speed_limit\", col(\"Speed_limit\").cast(\"double\"))\n",
    "join_df = join_df.withColumn(\"Age_of_Vehicle\", col(\"Age_of_Vehicle\").cast(\"double\"))\n",
    "join_df = join_df.withColumn(\"Engine_Capacity\", col(\"Engine_Capacity\").cast(\"double\"))\n",
    "\n",
    "# 평균값\n",
    "avg_speed = join_df.select(avg(\"Speed_limit\")).first()[0]\n",
    "avg_age = join_df.select(avg(\"Age_of_Vehicle\")).first()[0]\n",
    "avg_engine = join_df.select(avg(\"Engine_Capacity\")).first()[0]\n",
    "\n",
    "join_df = join_df.fillna({\n",
    "    \"Speed_limit\": avg_speed,\n",
    "    \"Age_of_Vehicle\": avg_age,\n",
    "    \"Engine_Capacity\": avg_engine\n",
    "})"
   ]
  },
  {
   "cell_type": "code",
   "execution_count": 8,
   "id": "d3c96ba2-4b29-4e09-8e09-64102fc39ab1",
   "metadata": {},
   "outputs": [],
   "source": [
    "from pyspark.ml.feature import StringIndexer, VectorAssembler"
   ]
  },
  {
   "cell_type": "code",
   "execution_count": 9,
   "id": "55e5c2bc-327b-40b0-bc0c-c2e34c444a25",
   "metadata": {},
   "outputs": [],
   "source": [
    "stages = []"
   ]
  },
  {
   "cell_type": "code",
   "execution_count": 10,
   "id": "38017cbf-2210-42d4-acb1-c36a5ddddbcb",
   "metadata": {},
   "outputs": [],
   "source": [
    "cat_features = [\n",
    "    \"1st_Road_Class\", \"Day_of_Week\", \"Did_Police_Officer_Attend_Scene_of_Accident\",\n",
    "    \"Road_Type\", \"Urban_or_Rural_Area\", \"Age_Band_of_Driver\", \"Sex_of_Driver\",\n",
    "    \"Vehicle_Type\", \"Driver_Home_Area_Type\"\n",
    "]\n",
    "\n",
    "for cat in cat_features:\n",
    "    cat_index = StringIndexer(inputCol=cat, outputCol=cat+'_idx').setHandleInvalid('keep')\n",
    "    stages += [cat_index]"
   ]
  },
  {
   "cell_type": "code",
   "execution_count": 11,
   "id": "06e6a4a2-a3df-4b6f-9f1c-dc6a99a97056",
   "metadata": {},
   "outputs": [],
   "source": [
    "target_indexer = StringIndexer(inputCol=\"Accident_Severity\", outputCol=\"label\").setHandleInvalid('keep')\n",
    "stages += [target_indexer]"
   ]
  },
  {
   "cell_type": "code",
   "execution_count": 12,
   "id": "788b30f9-3aa1-4965-86ed-3273bb9cf022",
   "metadata": {},
   "outputs": [],
   "source": [
    "num_features = [\"Speed_limit\", \"Age_of_Vehicle\", \"Engine_Capacity\"]"
   ]
  },
  {
   "cell_type": "code",
   "execution_count": 13,
   "id": "92dcf061-a7b9-4b77-b2c0-42cc94a0f3f3",
   "metadata": {},
   "outputs": [],
   "source": [
    "assembler_input = [cat + \"_idx\" for cat in cat_features] + num_features"
   ]
  },
  {
   "cell_type": "code",
   "execution_count": 14,
   "id": "172cca19-b10b-4746-bda5-0ba9792bd765",
   "metadata": {},
   "outputs": [],
   "source": [
    "assembler = VectorAssembler(inputCols=assembler_input, outputCol=\"feature_vector\")\n",
    "stages += [assembler]"
   ]
  },
  {
   "cell_type": "code",
   "execution_count": 15,
   "id": "ad414c9b-0a4c-4c07-9809-a865e65f1bc9",
   "metadata": {},
   "outputs": [],
   "source": [
    "train_df, test_df = join_df.randomSplit([0.8, 0.2], seed=3)"
   ]
  },
  {
   "cell_type": "code",
   "execution_count": 16,
   "id": "023d9461-a1ad-4f2f-9858-da53b85a88ba",
   "metadata": {},
   "outputs": [],
   "source": [
    "from pyspark.ml import Pipeline\n",
    "pipeline = Pipeline(stages=stages)\n",
    "model = pipeline.fit(train_df)\n",
    "vtrain_df = model.transform(train_df)"
   ]
  },
  {
   "cell_type": "code",
   "execution_count": 17,
   "id": "60b2ffca-8155-49b4-9a23-d958792c576f",
   "metadata": {},
   "outputs": [],
   "source": [
    "from pyspark.ml.linalg import DenseVector, VectorUDT\n",
    "from pyspark.sql.functions import udf\n",
    "\n",
    "to_dense = udf(lambda v: DenseVector(v.toArray()), VectorUDT())\n",
    "vtrain_df = vtrain_df.withColumn(\"dense_vector\", to_dense(\"feature_vector\"))"
   ]
  },
  {
   "cell_type": "code",
   "execution_count": null,
   "id": "0bef7237-472b-43f7-8b02-391ef8301e7e",
   "metadata": {},
   "outputs": [],
   "source": []
  },
  {
   "cell_type": "code",
   "execution_count": 18,
   "id": "fc5fbbb6-1f76-492f-8236-d9fd3ad0a92d",
   "metadata": {},
   "outputs": [],
   "source": [
    "from pyspark.ml.classification import RandomForestClassifier\n",
    "\n",
    "rf = RandomForestClassifier(\n",
    "    labelCol=\"label\", featuresCol=\"dense_vector\", seed=3, numTrees=300, maxDepth=8,\n",
    ")"
   ]
  },
  {
   "cell_type": "code",
   "execution_count": 19,
   "id": "6d5d24c2-7ce7-4709-acb4-88d8aef34a04",
   "metadata": {},
   "outputs": [],
   "source": [
    "rf_model = rf.fit(vtrain_df)"
   ]
  },
  {
   "cell_type": "code",
   "execution_count": 20,
   "id": "6428e5cb-7908-4a0d-9f6e-a851956e9c9a",
   "metadata": {},
   "outputs": [],
   "source": [
    "vtest_df = model.transform(test_df)"
   ]
  },
  {
   "cell_type": "code",
   "execution_count": 21,
   "id": "d419b4c5-db6e-4077-897c-e0439b01389a",
   "metadata": {},
   "outputs": [],
   "source": [
    "vtest_df = vtest_df.withColumn(\"dense_vector\", to_dense(\"feature_vector\"))"
   ]
  },
  {
   "cell_type": "code",
   "execution_count": 22,
   "id": "af2182cb-4325-48de-9c90-ae5aed1f9c5b",
   "metadata": {},
   "outputs": [],
   "source": [
    "pred = rf_model.transform(vtest_df)"
   ]
  },
  {
   "cell_type": "code",
   "execution_count": 23,
   "id": "5fbcffbc-a8bc-4617-9d5e-fbbe56b98fd2",
   "metadata": {},
   "outputs": [
    {
     "data": {
      "text/plain": [
       "0.7917836050024545"
      ]
     },
     "execution_count": 23,
     "metadata": {},
     "output_type": "execute_result"
    }
   ],
   "source": [
    "from pyspark.ml.evaluation import MulticlassClassificationEvaluator\n",
    "\n",
    "eval = MulticlassClassificationEvaluator(\n",
    "    labelCol='label',\n",
    "    predictionCol='prediction',\n",
    "    metricName='f1'\n",
    ")\n",
    "\n",
    "f1 = eval.evaluate(pred)\n",
    "f1"
   ]
  },
  {
   "cell_type": "code",
   "execution_count": null,
   "id": "3918c064-9a93-4143-9ba9-efe0d9654fbb",
   "metadata": {},
   "outputs": [],
   "source": []
  },
  {
   "cell_type": "code",
   "execution_count": null,
   "id": "4a0d8c18-613f-4ac0-8b35-ecf4e4988cc4",
   "metadata": {},
   "outputs": [],
   "source": []
  },
  {
   "cell_type": "code",
   "execution_count": null,
   "id": "485cfdbe-990e-4a4c-aaf1-419b2a4b6a47",
   "metadata": {},
   "outputs": [],
   "source": []
  },
  {
   "cell_type": "code",
   "execution_count": 24,
   "id": "566256f8-7c77-472b-a427-2490d1ee61bc",
   "metadata": {},
   "outputs": [],
   "source": [
    "spark.stop()"
   ]
  },
  {
   "cell_type": "code",
   "execution_count": null,
   "id": "93896a66-946f-4440-a6d5-34a581e58145",
   "metadata": {},
   "outputs": [],
   "source": []
  },
  {
   "cell_type": "code",
   "execution_count": null,
   "id": "e86b5e7b-5d6e-4a60-a846-2f228ee4daff",
   "metadata": {},
   "outputs": [],
   "source": []
  },
  {
   "cell_type": "code",
   "execution_count": null,
   "id": "0d9078d9-a0f2-436b-ba57-029d4f1da9c8",
   "metadata": {},
   "outputs": [],
   "source": []
  },
  {
   "cell_type": "code",
   "execution_count": null,
   "id": "3395d478-f43a-4cf4-bc8c-98bcbd5ac517",
   "metadata": {},
   "outputs": [],
   "source": []
  },
  {
   "cell_type": "code",
   "execution_count": null,
   "id": "46af4a1f-04fa-4d95-bd1f-6dd84c87161b",
   "metadata": {},
   "outputs": [],
   "source": []
  },
  {
   "cell_type": "code",
   "execution_count": null,
   "id": "8c3b5b75-7f8f-48a5-becb-bf283c250eb6",
   "metadata": {},
   "outputs": [],
   "source": []
  },
  {
   "cell_type": "code",
   "execution_count": null,
   "id": "d0e1e2f6-bcc3-48bd-9b9d-760e75b987e7",
   "metadata": {},
   "outputs": [],
   "source": []
  },
  {
   "cell_type": "code",
   "execution_count": null,
   "id": "b786dbbb-5698-48d5-8b85-60446260bdb0",
   "metadata": {},
   "outputs": [],
   "source": []
  },
  {
   "cell_type": "code",
   "execution_count": null,
   "id": "e86ea439-3507-440b-9723-421d2b37a4e9",
   "metadata": {},
   "outputs": [],
   "source": []
  },
  {
   "cell_type": "code",
   "execution_count": null,
   "id": "86a6809f-c9e1-404a-a8c5-dab06fb9fafa",
   "metadata": {},
   "outputs": [],
   "source": []
  },
  {
   "cell_type": "code",
   "execution_count": null,
   "id": "ed2ea4f0-e6a7-40b5-bc3c-b3779abfdd5e",
   "metadata": {},
   "outputs": [],
   "source": []
  },
  {
   "cell_type": "code",
   "execution_count": null,
   "id": "ee6f6f58-b062-4f35-baeb-28f8d10fe187",
   "metadata": {},
   "outputs": [],
   "source": []
  }
 ],
 "metadata": {
  "kernelspec": {
   "display_name": "Python 3 (ipykernel)",
   "language": "python",
   "name": "python3"
  },
  "language_info": {
   "codemirror_mode": {
    "name": "ipython",
    "version": 3
   },
   "file_extension": ".py",
   "mimetype": "text/x-python",
   "name": "python",
   "nbconvert_exporter": "python",
   "pygments_lexer": "ipython3",
   "version": "3.11.6"
  }
 },
 "nbformat": 4,
 "nbformat_minor": 5
}
