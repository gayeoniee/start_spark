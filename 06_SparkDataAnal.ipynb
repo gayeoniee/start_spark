{
 "cells": [
  {
   "cell_type": "code",
   "execution_count": 1,
   "id": "4d379d0b-54bf-4513-9e09-cd0864c00f61",
   "metadata": {},
   "outputs": [],
   "source": [
    "from pyspark.sql import SparkSession\n",
    "spark = SparkSession.builder.master(\"local\").appName(\"spark-sql\").getOrCreate()"
   ]
  },
  {
   "cell_type": "markdown",
   "id": "e70b27d0-ccae-4125-899b-af8ec97ae953",
   "metadata": {},
   "source": [
    "# 2015-summary.json"
   ]
  },
  {
   "cell_type": "code",
   "execution_count": 3,
   "id": "0210707d-e46f-4aa9-a7fa-ece4453eeb2c",
   "metadata": {},
   "outputs": [],
   "source": [
    "df = spark.read.format('json').load('learning_spark_data/2015-summary.json')"
   ]
  },
  {
   "cell_type": "code",
   "execution_count": 5,
   "id": "99437660-4ea9-4f7b-8a47-35d66303262f",
   "metadata": {},
   "outputs": [
    {
     "data": {
      "text/plain": [
       "256"
      ]
     },
     "execution_count": 5,
     "metadata": {},
     "output_type": "execute_result"
    }
   ],
   "source": [
    "# 데이터가 많지 않아서 count 가능\n",
    "df.count()"
   ]
  },
  {
   "cell_type": "code",
   "execution_count": 6,
   "id": "145b54f8-66c5-4706-899b-1fa6ef560a7a",
   "metadata": {},
   "outputs": [
    {
     "data": {
      "text/plain": [
       "[('DEST_COUNTRY_NAME', 'string'),\n",
       " ('ORIGIN_COUNTRY_NAME', 'string'),\n",
       " ('count', 'bigint')]"
      ]
     },
     "execution_count": 6,
     "metadata": {},
     "output_type": "execute_result"
    }
   ],
   "source": [
    "df.dtypes"
   ]
  },
  {
   "cell_type": "code",
   "execution_count": 7,
   "id": "b6e137de-4d11-44f7-89a5-f679e305302e",
   "metadata": {},
   "outputs": [
    {
     "name": "stdout",
     "output_type": "stream",
     "text": [
      "root\n",
      " |-- DEST_COUNTRY_NAME: string (nullable = true)\n",
      " |-- ORIGIN_COUNTRY_NAME: string (nullable = true)\n",
      " |-- count: long (nullable = true)\n",
      "\n"
     ]
    }
   ],
   "source": [
    "df.printSchema()"
   ]
  },
  {
   "cell_type": "code",
   "execution_count": 9,
   "id": "902a7673-8027-416f-b84a-08cb3e5887ec",
   "metadata": {},
   "outputs": [],
   "source": [
    "# df.collect()"
   ]
  },
  {
   "cell_type": "code",
   "execution_count": 10,
   "id": "b2c07fc1-bf94-48ca-9cd6-a2769aa34813",
   "metadata": {},
   "outputs": [
    {
     "data": {
      "text/plain": [
       "[Row(DEST_COUNTRY_NAME='United States', ORIGIN_COUNTRY_NAME='Romania', count=15),\n",
       " Row(DEST_COUNTRY_NAME='United States', ORIGIN_COUNTRY_NAME='Croatia', count=1),\n",
       " Row(DEST_COUNTRY_NAME='United States', ORIGIN_COUNTRY_NAME='Ireland', count=344),\n",
       " Row(DEST_COUNTRY_NAME='Egypt', ORIGIN_COUNTRY_NAME='United States', count=15),\n",
       " Row(DEST_COUNTRY_NAME='United States', ORIGIN_COUNTRY_NAME='India', count=62)]"
      ]
     },
     "execution_count": 10,
     "metadata": {},
     "output_type": "execute_result"
    }
   ],
   "source": [
    "df.take(5)"
   ]
  },
  {
   "cell_type": "code",
   "execution_count": 11,
   "id": "2b63ca95-468c-45fe-abd6-9e6f6292a92f",
   "metadata": {},
   "outputs": [
    {
     "name": "stdout",
     "output_type": "stream",
     "text": [
      "+-----+\n",
      "|count|\n",
      "+-----+\n",
      "|   15|\n",
      "|    1|\n",
      "|  344|\n",
      "|   15|\n",
      "|   62|\n",
      "+-----+\n",
      "only showing top 5 rows\n",
      "\n"
     ]
    }
   ],
   "source": [
    "df.select('count').show(5)"
   ]
  },
  {
   "cell_type": "code",
   "execution_count": 15,
   "id": "8afdecbb-4940-47ab-ac04-99089413d70e",
   "metadata": {},
   "outputs": [
    {
     "data": {
      "text/plain": [
       "132"
      ]
     },
     "execution_count": 15,
     "metadata": {},
     "output_type": "execute_result"
    }
   ],
   "source": [
    "df1 = df.select('DEST_COUNTRY_NAME').distinct().cache()\n",
    "df1.count()"
   ]
  },
  {
   "cell_type": "code",
   "execution_count": 16,
   "id": "d1c0e9ae-e429-4365-8f9b-f5fb0f5d9d5b",
   "metadata": {},
   "outputs": [
    {
     "data": {
      "text/plain": [
       "<Row('hello', None, 1, False)>"
      ]
     },
     "execution_count": 16,
     "metadata": {},
     "output_type": "execute_result"
    }
   ],
   "source": [
    "# ROW class를 이용한 단일 레코드 생성\n",
    "from pyspark.sql import Row\n",
    "myRow = Row('hello', None, 1, False)\n",
    "myRow"
   ]
  },
  {
   "cell_type": "code",
   "execution_count": 23,
   "id": "e627841f-ead8-4562-b60d-b5a10553e21a",
   "metadata": {},
   "outputs": [
    {
     "data": {
      "text/plain": [
       "DataFrame[DEST_COUNTRY_NAME: string, ORIGIN_COUNTRY_NAME: string, count: bigint, withinCountry: boolean]"
      ]
     },
     "execution_count": 23,
     "metadata": {},
     "output_type": "execute_result"
    }
   ],
   "source": [
    "# 새로운 컬럼 추가하기\n",
    "from pyspark.sql.functions import expr\n",
    "df3 = df.withColumn('withinCountry', expr('ORIGIN_COUNTRY_NAME == DEST_COUNTRY_NAME'))   # expr: sql표현식을 받아서 생성\n",
    "df3"
   ]
  },
  {
   "cell_type": "code",
   "execution_count": 24,
   "id": "e3c7f17b-09d0-44ef-bc40-ba7406d80d44",
   "metadata": {},
   "outputs": [
    {
     "name": "stdout",
     "output_type": "stream",
     "text": [
      "+-----------------+-------------------+-----+-------------+\n",
      "|DEST_COUNTRY_NAME|ORIGIN_COUNTRY_NAME|count|withinCountry|\n",
      "+-----------------+-------------------+-----+-------------+\n",
      "|    United States|            Romania|   15|        false|\n",
      "|    United States|            Croatia|    1|        false|\n",
      "|    United States|            Ireland|  344|        false|\n",
      "+-----------------+-------------------+-----+-------------+\n",
      "only showing top 3 rows\n",
      "\n"
     ]
    }
   ],
   "source": [
    "df3.show(3)"
   ]
  },
  {
   "cell_type": "code",
   "execution_count": 25,
   "id": "3194cbb2-4479-4e0c-b7bf-e5f7015dc05f",
   "metadata": {},
   "outputs": [
    {
     "name": "stdout",
     "output_type": "stream",
     "text": [
      "+-----------------+-------------------+------+-------------+\n",
      "|DEST_COUNTRY_NAME|ORIGIN_COUNTRY_NAME| count|withinCountry|\n",
      "+-----------------+-------------------+------+-------------+\n",
      "|    United States|      United States|370002|         true|\n",
      "+-----------------+-------------------+------+-------------+\n",
      "\n"
     ]
    }
   ],
   "source": [
    "df3.filter(df3.withinCountry).show(5)"
   ]
  },
  {
   "cell_type": "markdown",
   "id": "8ca025bc-e304-40b8-a435-44417ed74d00",
   "metadata": {},
   "source": [
    "case when count < 10 'under', 10 >= count 'upper' => category 컬럼 추가"
   ]
  },
  {
   "cell_type": "code",
   "execution_count": 33,
   "id": "956852e3-3898-4c7b-83f8-a9bd4440430c",
   "metadata": {},
   "outputs": [
    {
     "data": {
      "text/plain": [
       "DataFrame[DEST_COUNTRY_NAME: string, ORIGIN_COUNTRY_NAME: string, count: bigint, category: string]"
      ]
     },
     "execution_count": 33,
     "metadata": {},
     "output_type": "execute_result"
    }
   ],
   "source": [
    "df4 = df.withColumn('category', expr(\"CASE WHEN count < 10 THEN 'under' WHEN count >= 10 THEN 'upper' END\"))\n",
    "df4"
   ]
  },
  {
   "cell_type": "code",
   "execution_count": 35,
   "id": "52a65f8c-fdc8-4b8d-b98b-8ebe90845513",
   "metadata": {},
   "outputs": [
    {
     "name": "stdout",
     "output_type": "stream",
     "text": [
      "+-----------------+-------------------+-----+--------+\n",
      "|DEST_COUNTRY_NAME|ORIGIN_COUNTRY_NAME|count|category|\n",
      "+-----------------+-------------------+-----+--------+\n",
      "|    United States|            Romania|   15|   upper|\n",
      "|    United States|            Croatia|    1|   under|\n",
      "|    United States|            Ireland|  344|   upper|\n",
      "|            Egypt|      United States|   15|   upper|\n",
      "|    United States|              India|   62|   upper|\n",
      "+-----------------+-------------------+-----+--------+\n",
      "only showing top 5 rows\n",
      "\n"
     ]
    }
   ],
   "source": [
    "df4.show(5)"
   ]
  },
  {
   "cell_type": "code",
   "execution_count": 36,
   "id": "c9a82ade-1841-462a-bbb0-79496e55ed43",
   "metadata": {},
   "outputs": [],
   "source": [
    "# DataFrame의 select(), where(), filter() => 트랜스포메이션\n",
    "# show(), count() => 액션"
   ]
  },
  {
   "cell_type": "code",
   "execution_count": 37,
   "id": "02bff296-374a-48b7-8ae3-f05affd85b5f",
   "metadata": {},
   "outputs": [],
   "source": [
    "spark.stop()"
   ]
  },
  {
   "cell_type": "markdown",
   "id": "5c954b66-f59f-4f6b-b705-45aac6ae6338",
   "metadata": {},
   "source": [
    "# 집계함수"
   ]
  },
  {
   "cell_type": "code",
   "execution_count": 39,
   "id": "1541d4e5-f45d-4f4b-85eb-b97cd534b781",
   "metadata": {},
   "outputs": [],
   "source": [
    "from pyspark.sql import SparkSession\n",
    "spark = SparkSession.builder.master(\"local\").appName(\"spark-sql\").getOrCreate()"
   ]
  },
  {
   "cell_type": "code",
   "execution_count": 49,
   "id": "b74580ae-de5c-4816-87b6-c6e2e4d9b945",
   "metadata": {},
   "outputs": [],
   "source": [
    "# emp_df, dept_df\n",
    "emp_df = spark.read.format('csv').option(\"header\", \"true\").load(\"learning_spark_data/emp.csv\")\n",
    "dept_df = spark.read.format('csv').option(\"header\", \"true\").load(\"learning_spark_data/dept.csv\")"
   ]
  },
  {
   "cell_type": "code",
   "execution_count": 50,
   "id": "59bcf54e-9a48-4b02-b708-b293289e19d1",
   "metadata": {},
   "outputs": [
    {
     "name": "stdout",
     "output_type": "stream",
     "text": [
      "+-----+-----+--------+----+----------+----+----+------+\n",
      "|empno|ename|     job| mgr|  hiredate| sal|comm|deptno|\n",
      "+-----+-----+--------+----+----------+----+----+------+\n",
      "| 7369|SMITH|   CLERK|7902|1980-12-17| 800|NULL|    20|\n",
      "| 7499|ALLEN|SALESMAN|7698|1981-02-20|1600| 300|    30|\n",
      "| 7521| WARD|SALESMAN|7698|1981-02-22|1250| 500|    30|\n",
      "+-----+-----+--------+----+----------+----+----+------+\n",
      "only showing top 3 rows\n",
      "\n"
     ]
    }
   ],
   "source": [
    "emp_df.show(3)"
   ]
  },
  {
   "cell_type": "code",
   "execution_count": 51,
   "id": "edb5f7f7-b904-4b46-9002-6f015b45aaf5",
   "metadata": {},
   "outputs": [
    {
     "name": "stdout",
     "output_type": "stream",
     "text": [
      "+------+----------+--------+\n",
      "|deptno|     dname|     loc|\n",
      "+------+----------+--------+\n",
      "|    10|ACCOUNTING|NEW YORK|\n",
      "|    20|  RESEARCH|  DALLAS|\n",
      "|    30|     SALES| CHICAGO|\n",
      "+------+----------+--------+\n",
      "only showing top 3 rows\n",
      "\n"
     ]
    }
   ],
   "source": [
    "dept_df.show(3)"
   ]
  },
  {
   "cell_type": "code",
   "execution_count": 52,
   "id": "7e568b2b-adf1-4d14-97c6-25276ee46719",
   "metadata": {},
   "outputs": [
    {
     "data": {
      "text/plain": [
       "15"
      ]
     },
     "execution_count": 52,
     "metadata": {},
     "output_type": "execute_result"
    }
   ],
   "source": [
    "emp_df.count()"
   ]
  },
  {
   "cell_type": "code",
   "execution_count": 53,
   "id": "5498ceae-c65f-4a2d-bbff-abb3ecbc4d4d",
   "metadata": {},
   "outputs": [
    {
     "data": {
      "text/plain": [
       "4"
      ]
     },
     "execution_count": 53,
     "metadata": {},
     "output_type": "execute_result"
    }
   ],
   "source": [
    "dept_df.count()"
   ]
  },
  {
   "cell_type": "code",
   "execution_count": 56,
   "id": "5ff02b95-e408-4128-99b2-9825dd43eed2",
   "metadata": {},
   "outputs": [
    {
     "name": "stdout",
     "output_type": "stream",
     "text": [
      "+------+------+\n",
      "| ENAME|DEPTNO|\n",
      "+------+------+\n",
      "| SMITH|    20|\n",
      "| ALLEN|    30|\n",
      "|  WARD|    30|\n",
      "| JONES|    20|\n",
      "|MARTIN|    30|\n",
      "| BLAKE|    30|\n",
      "| CLARK|    10|\n",
      "| SCOTT|    20|\n",
      "|  KING|    10|\n",
      "|TURNER|    30|\n",
      "| ADAMS|    20|\n",
      "| JAMES|    30|\n",
      "|  FORD|    20|\n",
      "|MILLER|    10|\n",
      "|  JACK|    70|\n",
      "+------+------+\n",
      "\n"
     ]
    }
   ],
   "source": [
    "# 컬럼명을 대소문자 구분x\n",
    "emp_df.select(['ENAME', 'DEPTNO']).show()"
   ]
  },
  {
   "cell_type": "code",
   "execution_count": 58,
   "id": "f09e336d-d4b0-45c4-be27-3c63f0f47662",
   "metadata": {},
   "outputs": [
    {
     "name": "stdout",
     "output_type": "stream",
     "text": [
      "+-----+-----+-------+----+----------+----+----+------+\n",
      "|empno|ename|    job| mgr|  hiredate| sal|comm|deptno|\n",
      "+-----+-----+-------+----+----------+----+----+------+\n",
      "| 7369|SMITH|  CLERK|7902|1980-12-17| 800|NULL|    20|\n",
      "| 7566|JONES|MANAGER|7839|1981-04-02|2975|NULL|    20|\n",
      "| 7788|SCOTT|ANALYST|7566|1987-04-19|3000|NULL|    20|\n",
      "| 7876|ADAMS|  CLERK|7788|1987-05-23|1100|NULL|    20|\n",
      "| 7902| FORD|ANALYST|7566|1981-12-03|3000|NULL|    20|\n",
      "+-----+-----+-------+----+----------+----+----+------+\n",
      "\n"
     ]
    }
   ],
   "source": [
    "# filter()랑 동일함!\n",
    "emp_df.select('*').where('DEPTNO=20').show()"
   ]
  },
  {
   "cell_type": "code",
   "execution_count": 65,
   "id": "a2044ef3-85bd-49d0-bb62-35994232f9c3",
   "metadata": {},
   "outputs": [
    {
     "name": "stdout",
     "output_type": "stream",
     "text": [
      "+--------+\n",
      "|count(1)|\n",
      "+--------+\n",
      "|      15|\n",
      "+--------+\n",
      "\n"
     ]
    }
   ],
   "source": [
    "# 계산식일때는 selectExpr\n",
    "emp_df.selectExpr('count(*)').show()"
   ]
  },
  {
   "cell_type": "code",
   "execution_count": 64,
   "id": "99ca9c9e-ba8b-4baa-9fda-363abea89e3c",
   "metadata": {},
   "outputs": [
    {
     "name": "stdout",
     "output_type": "stream",
     "text": [
      "+-------------------+\n",
      "|count(DISTINCT job)|\n",
      "+-------------------+\n",
      "|                  5|\n",
      "+-------------------+\n",
      "\n"
     ]
    }
   ],
   "source": [
    "from pyspark.sql.functions import countDistinct\n",
    "emp_df.select(countDistinct('job')).show()"
   ]
  },
  {
   "cell_type": "code",
   "execution_count": 67,
   "id": "a5f41660-5dd1-4269-8131-7c50ba46a876",
   "metadata": {},
   "outputs": [
    {
     "name": "stdout",
     "output_type": "stream",
     "text": [
      "+--------------------------+\n",
      "|approx_count_distinct(job)|\n",
      "+--------------------------+\n",
      "|                         5|\n",
      "+--------------------------+\n",
      "\n"
     ]
    }
   ],
   "source": [
    "from pyspark.sql.functions import approx_count_distinct\n",
    "emp_df.select(approx_count_distinct('job', 0.1)).show()  # 오류율 지정 (데이터가 많을 때)"
   ]
  },
  {
   "cell_type": "code",
   "execution_count": 127,
   "id": "4b2d8828-45f2-4bfb-9379-637b3cf8d364",
   "metadata": {},
   "outputs": [],
   "source": [
    "# first, last, min, max, sum, avg -> (expr: sql문장 x, function으로 처리)\n",
    "from pyspark.sql.functions import first, last, min, max, sum, avg, col, mean, count"
   ]
  },
  {
   "cell_type": "code",
   "execution_count": 79,
   "id": "a136e610-b673-426a-a18e-734846fb80e0",
   "metadata": {},
   "outputs": [
    {
     "name": "stdout",
     "output_type": "stream",
     "text": [
      "+----------+\n",
      "|first(sal)|\n",
      "+----------+\n",
      "|       800|\n",
      "+----------+\n",
      "\n"
     ]
    }
   ],
   "source": [
    "emp_df.select(first('sal')).show()"
   ]
  },
  {
   "cell_type": "code",
   "execution_count": 137,
   "id": "ce1c0df5-eb03-4e25-8bff-f5e4020f8fa2",
   "metadata": {},
   "outputs": [
    {
     "name": "stdout",
     "output_type": "stream",
     "text": [
      "+---------+\n",
      "|last(sal)|\n",
      "+---------+\n",
      "|     3200|\n",
      "+---------+\n",
      "\n"
     ]
    }
   ],
   "source": [
    "emp_df.select(last('sal')).show()"
   ]
  },
  {
   "cell_type": "code",
   "execution_count": 138,
   "id": "c593be7d-4454-45a9-8924-fdf382fad536",
   "metadata": {},
   "outputs": [],
   "source": [
    "emp_df = emp_df.withColumn('sal', col('sal').cast('int'))"
   ]
  },
  {
   "cell_type": "code",
   "execution_count": 140,
   "id": "136736e4-fe18-4ee0-94c1-048b254b5d91",
   "metadata": {},
   "outputs": [
    {
     "name": "stdout",
     "output_type": "stream",
     "text": [
      "+--------+\n",
      "|min(sal)|\n",
      "+--------+\n",
      "|     800|\n",
      "+--------+\n",
      "\n"
     ]
    }
   ],
   "source": [
    "emp_df.select(min('sal')).show()"
   ]
  },
  {
   "cell_type": "code",
   "execution_count": 141,
   "id": "174a192b-c73d-4c97-8b1f-cb08f02c5ed7",
   "metadata": {},
   "outputs": [
    {
     "name": "stdout",
     "output_type": "stream",
     "text": [
      "+--------+\n",
      "|max(sal)|\n",
      "+--------+\n",
      "|    5000|\n",
      "+--------+\n",
      "\n"
     ]
    }
   ],
   "source": [
    "emp_df.select(max('sal')).show()"
   ]
  },
  {
   "cell_type": "code",
   "execution_count": 142,
   "id": "31a1e4a9-1fd5-46c9-94e2-146eb583aedc",
   "metadata": {},
   "outputs": [
    {
     "name": "stdout",
     "output_type": "stream",
     "text": [
      "+--------+\n",
      "|sum(sal)|\n",
      "+--------+\n",
      "|   32225|\n",
      "+--------+\n",
      "\n"
     ]
    }
   ],
   "source": [
    "emp_df.select(sum('sal')).show()"
   ]
  },
  {
   "cell_type": "code",
   "execution_count": 143,
   "id": "e5e5893f-dca8-43ae-8250-cff36f1b4c24",
   "metadata": {},
   "outputs": [
    {
     "name": "stdout",
     "output_type": "stream",
     "text": [
      "+------------------+\n",
      "|          avg(sal)|\n",
      "+------------------+\n",
      "|2148.3333333333335|\n",
      "+------------------+\n",
      "\n"
     ]
    }
   ],
   "source": [
    "emp_df.select(avg('sal')).show()"
   ]
  },
  {
   "cell_type": "code",
   "execution_count": 145,
   "id": "c50b1d42-299e-4956-88c8-e757253f7a6c",
   "metadata": {},
   "outputs": [
    {
     "name": "stdout",
     "output_type": "stream",
     "text": [
      "+----------------------------------+------------------+------------------+\n",
      "|(total_salary / total_transaction)|        avg_salary|       mean_salary|\n",
      "+----------------------------------+------------------+------------------+\n",
      "|                2148.3333333333335|2148.3333333333335|2148.3333333333335|\n",
      "+----------------------------------+------------------+------------------+\n",
      "\n"
     ]
    }
   ],
   "source": [
    "# total_salary / total_transaction, avg_salary, mean_salary\n",
    "emp_df.select(\n",
    "    sum('sal').alias('total_salary'),\n",
    "    count('*').alias('total_transaction'),\n",
    "    avg('sal').alias('avg_salary'),\n",
    "    mean('sal').alias('mean_salary')\n",
    ").selectExpr(\n",
    "    'total_salary/total_transaction',\n",
    "    'avg_salary',\n",
    "    'mean_salary'\n",
    ").show()"
   ]
  },
  {
   "cell_type": "code",
   "execution_count": 115,
   "id": "f87ce127-915b-4295-9394-0677e52a2682",
   "metadata": {},
   "outputs": [
    {
     "name": "stdout",
     "output_type": "stream",
     "text": [
      "+---------+-----+\n",
      "|      job|count|\n",
      "+---------+-----+\n",
      "|  ANALYST|    2|\n",
      "| SALESMAN|    4|\n",
      "|    CLERK|    5|\n",
      "|  MANAGER|    3|\n",
      "|PRESIDENT|    1|\n",
      "+---------+-----+\n",
      "\n"
     ]
    }
   ],
   "source": [
    "# 그룹화\n",
    "emp_df.groupBy('job').count().show()"
   ]
  },
  {
   "cell_type": "code",
   "execution_count": 119,
   "id": "37011df8-9a1c-4e6f-b127-4b7b6d9388a6",
   "metadata": {},
   "outputs": [
    {
     "name": "stdout",
     "output_type": "stream",
     "text": [
      "+---------+---+----------+--------+\n",
      "|      job|qty|count(job)|sum(sal)|\n",
      "+---------+---+----------+--------+\n",
      "|  ANALYST|  2|         2|  6000.0|\n",
      "| SALESMAN|  4|         4|  5600.0|\n",
      "|    CLERK|  5|         5|  7350.0|\n",
      "|  MANAGER|  3|         3|  8275.0|\n",
      "|PRESIDENT|  1|         1|  5000.0|\n",
      "+---------+---+----------+--------+\n",
      "\n"
     ]
    }
   ],
   "source": [
    "# select job,\n",
    "#        count(job),\n",
    "#        sum(sal)\n",
    "# groupby job\n",
    "\n",
    "group_df = emp_df.groupBy('job').agg(\n",
    "    count('job').alias('qty'),\n",
    "    expr('count(job)'),\n",
    "    sum('sal')\n",
    ")\n",
    "\n",
    "group_df.show()"
   ]
  },
  {
   "cell_type": "code",
   "execution_count": 129,
   "id": "41a925e1-f9c1-47ae-a187-af00037b0a93",
   "metadata": {},
   "outputs": [
    {
     "name": "stdout",
     "output_type": "stream",
     "text": [
      "+---------+-------+---------+\n",
      "|      job|SAL_AVG|SAL_STDEV|\n",
      "+---------+-------+---------+\n",
      "|  ANALYST| 3000.0|      0.0|\n",
      "| SALESMAN| 1400.0|   177.95|\n",
      "|    CLERK| 1470.0|   984.63|\n",
      "|  MANAGER|2758.33|   274.24|\n",
      "|PRESIDENT| 5000.0|     NULL|\n",
      "+---------+-------+---------+\n",
      "\n"
     ]
    }
   ],
   "source": [
    "# sal의 평균, 표준편치를 job별로 계산해서 출력 (소수점 2자리)\n",
    "# SAL_AVG, SAL_STDEV\n",
    "from pyspark.sql.functions import avg, stddev, round\n",
    "\n",
    "emp_df.groupBy('job').agg(\n",
    "    round(avg('sal'), 2).alias('SAL_AVG'),\n",
    "    round(stddev('sal'), 2).alias('SAL_STDEV')\n",
    ").show()"
   ]
  },
  {
   "cell_type": "code",
   "execution_count": 146,
   "id": "3411e489-5002-44bb-b6b5-473c76bbc7d1",
   "metadata": {},
   "outputs": [
    {
     "name": "stdout",
     "output_type": "stream",
     "text": [
      "+----+\n",
      "| sal|\n",
      "+----+\n",
      "|5000|\n",
      "|3200|\n",
      "|3000|\n",
      "|3000|\n",
      "|2975|\n",
      "|2850|\n",
      "|2450|\n",
      "|1600|\n",
      "|1500|\n",
      "|1300|\n",
      "+----+\n",
      "\n"
     ]
    }
   ],
   "source": [
    "# 급여 top10 구하기\n",
    "from pyspark.sql.functions import desc\n",
    "emp_df.select('sal').orderBy(desc('sal')).limit(10).show()"
   ]
  },
  {
   "cell_type": "code",
   "execution_count": 148,
   "id": "fd90a432-7b6e-4a6f-bb8e-33323b865075",
   "metadata": {},
   "outputs": [
    {
     "data": {
      "text/plain": [
       "Column<'RANK() OVER (ORDER BY sal DESC NULLS LAST unspecifiedframe$())'>"
      ]
     },
     "execution_count": 148,
     "metadata": {},
     "output_type": "execute_result"
    }
   ],
   "source": [
    "# 윈도우 함수\n",
    "from pyspark.sql.window import Window\n",
    "from pyspark.sql.functions import rank\n",
    "windowspec = Window.orderBy(desc('sal'))\n",
    "salAllRank = rank().over(windowspec)\n",
    "salAllRank"
   ]
  },
  {
   "cell_type": "code",
   "execution_count": 160,
   "id": "ba73bb7f-f58a-4a9d-a3b3-b85f7ea75d3d",
   "metadata": {},
   "outputs": [
    {
     "name": "stdout",
     "output_type": "stream",
     "text": [
      "+-----+-----+---------+----+----------+----+----+------+-----------+\n",
      "|empno|ename|      job| mgr|  hiredate| sal|comm|deptno|salary_rank|\n",
      "+-----+-----+---------+----+----------+----+----+------+-----------+\n",
      "| 7839| KING|PRESIDENT|NULL|1981-11-17|5000|NULL|    10|          1|\n",
      "| 9292| JACK|    CLERK|7782|1982-01-23|3200|NULL|    70|          2|\n",
      "| 7788|SCOTT|  ANALYST|7566|1987-04-19|3000|NULL|    20|          3|\n",
      "| 7902| FORD|  ANALYST|7566|1981-12-03|3000|NULL|    20|          3|\n",
      "| 7566|JONES|  MANAGER|7839|1981-04-02|2975|NULL|    20|          5|\n",
      "+-----+-----+---------+----+----------+----+----+------+-----------+\n",
      "only showing top 5 rows\n",
      "\n"
     ]
    }
   ],
   "source": [
    "emp_df.withColumn('salary_rank', salAllRank).show(5)"
   ]
  },
  {
   "cell_type": "code",
   "execution_count": 151,
   "id": "4e2dafb0-a912-4c54-9547-69a3552c795f",
   "metadata": {},
   "outputs": [],
   "source": [
    "# 직무별로 rank작성\n",
    "# Window.partitionBy()\n",
    "# job_rank_df 작성\n",
    "\n",
    "windowspec1 = Window.partitionBy('job').orderBy(desc('sal'))\n",
    "job_rank_df = emp_df.withColumn('job_salary_rank', rank().over(windowspec1))"
   ]
  },
  {
   "cell_type": "code",
   "execution_count": 158,
   "id": "7e7aada2-ea2a-46b6-a599-9d03e4acd631",
   "metadata": {},
   "outputs": [
    {
     "name": "stdout",
     "output_type": "stream",
     "text": [
      "+-----+------+-------+----+----------+----+----+------+---------------+\n",
      "|empno| ename|    job| mgr|  hiredate| sal|comm|deptno|job_salary_rank|\n",
      "+-----+------+-------+----+----------+----+----+------+---------------+\n",
      "| 7788| SCOTT|ANALYST|7566|1987-04-19|3000|NULL|    20|              1|\n",
      "| 7902|  FORD|ANALYST|7566|1981-12-03|3000|NULL|    20|              1|\n",
      "| 9292|  JACK|  CLERK|7782|1982-01-23|3200|NULL|    70|              1|\n",
      "| 7934|MILLER|  CLERK|7782|1982-01-23|1300|NULL|    10|              2|\n",
      "| 7876| ADAMS|  CLERK|7788|1987-05-23|1100|NULL|    20|              3|\n",
      "+-----+------+-------+----+----------+----+----+------+---------------+\n",
      "only showing top 5 rows\n",
      "\n"
     ]
    }
   ],
   "source": [
    "job_rank_df.show(5)"
   ]
  },
  {
   "cell_type": "code",
   "execution_count": 159,
   "id": "9a5653cb-8885-4408-bb81-57fa7bcf7201",
   "metadata": {},
   "outputs": [
    {
     "name": "stdout",
     "output_type": "stream",
     "text": [
      "+-----+------+---------+----+----------+----+----+------+----------------+\n",
      "|empno| ename|      job| mgr|  hiredate| sal|comm|deptno|dept_salary_rank|\n",
      "+-----+------+---------+----+----------+----+----+------+----------------+\n",
      "| 7839|  KING|PRESIDENT|NULL|1981-11-17|5000|NULL|    10|               1|\n",
      "| 7782| CLARK|  MANAGER|7839|1981-06-09|2450|NULL|    10|               2|\n",
      "| 7934|MILLER|    CLERK|7782|1982-01-23|1300|NULL|    10|               3|\n",
      "| 7788| SCOTT|  ANALYST|7566|1987-04-19|3000|NULL|    20|               1|\n",
      "| 7902|  FORD|  ANALYST|7566|1981-12-03|3000|NULL|    20|               1|\n",
      "+-----+------+---------+----+----------+----+----+------+----------------+\n",
      "only showing top 5 rows\n",
      "\n"
     ]
    }
   ],
   "source": [
    "# 부서별 순위\n",
    "dept_window_spec = Window.partitionBy('deptno').orderBy(desc('sal'))\n",
    "dept_rank_df = emp_df.withColumn('dept_salary_rank', rank().over(dept_window_spec))\n",
    "dept_rank_df.show(5)"
   ]
  },
  {
   "cell_type": "code",
   "execution_count": 171,
   "id": "af1e7de4-b86a-4d8b-ad11-f5c8d136fb6f",
   "metadata": {},
   "outputs": [
    {
     "name": "stdout",
     "output_type": "stream",
     "text": [
      "+-----+------+-------+----+----------+----+----+------+-------+\n",
      "|empno| ename|    job| mgr|  hiredate| sal|comm|deptno|sal_sum|\n",
      "+-----+------+-------+----+----------+----+----+------+-------+\n",
      "| 9292|  JACK|  CLERK|7782|1982-01-23|3200|NULL|    70|   3200|\n",
      "| 7934|MILLER|  CLERK|7782|1982-01-23|1300|NULL|    10|   4500|\n",
      "| 7902|  FORD|ANALYST|7566|1981-12-03|3000|NULL|    20|   7500|\n",
      "| 7900| JAMES|  CLERK|7698|1981-12-03| 950|NULL|    30|   8450|\n",
      "| 7876| ADAMS|  CLERK|7788|1987-05-23|1100|NULL|    20|   9550|\n",
      "+-----+------+-------+----+----------+----+----+------+-------+\n",
      "only showing top 5 rows\n",
      "\n"
     ]
    }
   ],
   "source": [
    "# 누적급여 sum('sal').over()\n",
    "window_sum = Window.orderBy(desc('empno'))\n",
    "sum_df = emp_df.withColumn('sal_sum', sum('sal').over(window_sum))\n",
    "sum_df.show(5)"
   ]
  },
  {
   "cell_type": "code",
   "execution_count": 167,
   "id": "a3b6eb73-8ce0-4ab7-a5de-2bec9fd139b3",
   "metadata": {},
   "outputs": [
    {
     "name": "stdout",
     "output_type": "stream",
     "text": [
      "+-----+------+---------+----+----------+----+----+------+------------+\n",
      "|empno| ename|      job| mgr|  hiredate| sal|comm|deptno|dept_sal_sum|\n",
      "+-----+------+---------+----+----------+----+----+------+------------+\n",
      "| 7934|MILLER|    CLERK|7782|1982-01-23|1300|NULL|    10|        1300|\n",
      "| 7839|  KING|PRESIDENT|NULL|1981-11-17|5000|NULL|    10|        6300|\n",
      "| 7782| CLARK|  MANAGER|7839|1981-06-09|2450|NULL|    10|        8750|\n",
      "| 7902|  FORD|  ANALYST|7566|1981-12-03|3000|NULL|    20|        3000|\n",
      "| 7876| ADAMS|    CLERK|7788|1987-05-23|1100|NULL|    20|        4100|\n",
      "+-----+------+---------+----+----------+----+----+------+------------+\n",
      "only showing top 5 rows\n",
      "\n"
     ]
    }
   ],
   "source": [
    "# 부서별 누적급여\n",
    "window_spec_sum = Window.partitionBy('deptno').orderBy(desc('empno'))\n",
    "dept_sum_df = emp_df.withColumn('dept_sal_sum', sum('sal').over(window_spec_sum))\n",
    "dept_sum_df.show(5)"
   ]
  },
  {
   "cell_type": "code",
   "execution_count": 173,
   "id": "1e0e6c6e-0538-4be8-a5ba-3114efd29e63",
   "metadata": {},
   "outputs": [
    {
     "name": "stdout",
     "output_type": "stream",
     "text": [
      "+-----+------+---------+----+----------+----+----+------+------------------+\n",
      "|empno| ename|      job| mgr|  hiredate| sal|comm|deptno|          dept_avg|\n",
      "+-----+------+---------+----+----------+----+----+------+------------------+\n",
      "| 7782| CLARK|  MANAGER|7839|1981-06-09|2450|NULL|    10|2916.6666666666665|\n",
      "| 7839|  KING|PRESIDENT|NULL|1981-11-17|5000|NULL|    10|2916.6666666666665|\n",
      "| 7934|MILLER|    CLERK|7782|1982-01-23|1300|NULL|    10|2916.6666666666665|\n",
      "| 7369| SMITH|    CLERK|7902|1980-12-17| 800|NULL|    20|            2175.0|\n",
      "| 7566| JONES|  MANAGER|7839|1981-04-02|2975|NULL|    20|            2175.0|\n",
      "+-----+------+---------+----+----------+----+----+------+------------------+\n",
      "only showing top 5 rows\n",
      "\n"
     ]
    }
   ],
   "source": [
    "# 부서별 평균 급여와 직원 개별 급여 비교\n",
    "window_spec_avg = Window.partitionBy('deptno')\n",
    "dept_avg_df = emp_df.withColumn('dept_avg', avg('sal').over(window_spec_avg))\n",
    "dept_avg_df.show(5)"
   ]
  },
  {
   "cell_type": "code",
   "execution_count": 180,
   "id": "1a64df8b-efc7-4490-a71a-7eb152745e2d",
   "metadata": {},
   "outputs": [
    {
     "name": "stdout",
     "output_type": "stream",
     "text": [
      "+------+---------+--------+--------+\n",
      "|deptno|      job|count(1)|sum(sal)|\n",
      "+------+---------+--------+--------+\n",
      "|    10|    CLERK|       1|    1300|\n",
      "|    10|  MANAGER|       1|    2450|\n",
      "|    10|PRESIDENT|       1|    5000|\n",
      "|    20|  ANALYST|       2|    6000|\n",
      "|    20|    CLERK|       2|    1900|\n",
      "|    20|  MANAGER|       1|    2975|\n",
      "|    30|    CLERK|       1|     950|\n",
      "|    30|  MANAGER|       1|    2850|\n",
      "|    30| SALESMAN|       4|    5600|\n",
      "|    70|    CLERK|       1|    3200|\n",
      "+------+---------+--------+--------+\n",
      "\n"
     ]
    }
   ],
   "source": [
    "# 부서별, 직업별 소계\n",
    "emp_df.groupBy('deptno', 'job') \\\n",
    "      .agg(count('*'), sum('sal')) \\\n",
    "      .orderBy('deptno', 'job') \\\n",
    "      .show()    # groupBy는 spark에 부하를 많이 줌"
   ]
  },
  {
   "cell_type": "code",
   "execution_count": 181,
   "id": "01ada35c-a282-4065-b492-8156b828e16d",
   "metadata": {},
   "outputs": [
    {
     "name": "stdout",
     "output_type": "stream",
     "text": [
      "+------+---------+--------+--------+\n",
      "|deptno|      job|count(1)|sum(sal)|\n",
      "+------+---------+--------+--------+\n",
      "|  NULL|     NULL|      15|   32225|\n",
      "|  NULL|  ANALYST|       2|    6000|\n",
      "|  NULL|    CLERK|       5|    7350|\n",
      "|  NULL|  MANAGER|       3|    8275|\n",
      "|  NULL|PRESIDENT|       1|    5000|\n",
      "|  NULL| SALESMAN|       4|    5600|\n",
      "|    10|     NULL|       3|    8750|\n",
      "|    10|    CLERK|       1|    1300|\n",
      "|    10|  MANAGER|       1|    2450|\n",
      "|    10|PRESIDENT|       1|    5000|\n",
      "|    20|     NULL|       5|   10875|\n",
      "|    20|  ANALYST|       2|    6000|\n",
      "|    20|    CLERK|       2|    1900|\n",
      "|    20|  MANAGER|       1|    2975|\n",
      "|    30|     NULL|       6|    9400|\n",
      "|    30|    CLERK|       1|     950|\n",
      "|    30|  MANAGER|       1|    2850|\n",
      "|    30| SALESMAN|       4|    5600|\n",
      "|    70|     NULL|       1|    3200|\n",
      "|    70|    CLERK|       1|    3200|\n",
      "+------+---------+--------+--------+\n",
      "\n"
     ]
    }
   ],
   "source": [
    "emp_df.cube('deptno', 'job').agg(count('*'), sum('sal'))\\\n",
    "    .orderBy('deptno', 'job').show()"
   ]
  },
  {
   "cell_type": "code",
   "execution_count": 182,
   "id": "f8660ee5-2cb3-472f-a142-934271b5f7d5",
   "metadata": {},
   "outputs": [
    {
     "name": "stdout",
     "output_type": "stream",
     "text": [
      "+---------+------------------+--------+--------+\n",
      "|      job|          avg(sal)|max(sal)|min(sal)|\n",
      "+---------+------------------+--------+--------+\n",
      "|     NULL|2148.3333333333335|    5000|     800|\n",
      "|  ANALYST|            3000.0|    3000|    3000|\n",
      "|    CLERK|            1470.0|    3200|     800|\n",
      "|  MANAGER|2758.3333333333335|    2975|    2450|\n",
      "|PRESIDENT|            5000.0|    5000|    5000|\n",
      "| SALESMAN|            1400.0|    1600|    1250|\n",
      "+---------+------------------+--------+--------+\n",
      "\n"
     ]
    }
   ],
   "source": [
    "# 평균급여, 최대급여, 최소급여\n",
    "emp_df.cube('job').agg(avg('sal'), max('sal'), min('sal'))\\\n",
    "    .orderBy('job').show()"
   ]
  },
  {
   "cell_type": "markdown",
   "id": "6db1f718-a1f1-46fd-b945-86c60c50fc1f",
   "metadata": {},
   "source": [
    "# join"
   ]
  },
  {
   "cell_type": "code",
   "execution_count": 183,
   "id": "9f5945b2-f591-4380-be82-bf4bb2790cb5",
   "metadata": {},
   "outputs": [
    {
     "name": "stdout",
     "output_type": "stream",
     "text": [
      "+-----+------+---------+----+----------+----+----+------+------+----------+--------+\n",
      "|empno| ename|      job| mgr|  hiredate| sal|comm|deptno|deptno|     dname|     loc|\n",
      "+-----+------+---------+----+----------+----+----+------+------+----------+--------+\n",
      "| 7369| SMITH|    CLERK|7902|1980-12-17| 800|NULL|    20|    20|  RESEARCH|  DALLAS|\n",
      "| 7499| ALLEN| SALESMAN|7698|1981-02-20|1600| 300|    30|    30|     SALES| CHICAGO|\n",
      "| 7521|  WARD| SALESMAN|7698|1981-02-22|1250| 500|    30|    30|     SALES| CHICAGO|\n",
      "| 7566| JONES|  MANAGER|7839|1981-04-02|2975|NULL|    20|    20|  RESEARCH|  DALLAS|\n",
      "| 7654|MARTIN| SALESMAN|7698|1981-09-28|1250|1400|    30|    30|     SALES| CHICAGO|\n",
      "| 7698| BLAKE|  MANAGER|7839|1981-05-01|2850|NULL|    30|    30|     SALES| CHICAGO|\n",
      "| 7782| CLARK|  MANAGER|7839|1981-06-09|2450|NULL|    10|    10|ACCOUNTING|NEW YORK|\n",
      "| 7788| SCOTT|  ANALYST|7566|1987-04-19|3000|NULL|    20|    20|  RESEARCH|  DALLAS|\n",
      "| 7839|  KING|PRESIDENT|NULL|1981-11-17|5000|NULL|    10|    10|ACCOUNTING|NEW YORK|\n",
      "| 7844|TURNER| SALESMAN|7698|1981-09-08|1500|   0|    30|    30|     SALES| CHICAGO|\n",
      "| 7876| ADAMS|    CLERK|7788|1987-05-23|1100|NULL|    20|    20|  RESEARCH|  DALLAS|\n",
      "| 7900| JAMES|    CLERK|7698|1981-12-03| 950|NULL|    30|    30|     SALES| CHICAGO|\n",
      "| 7902|  FORD|  ANALYST|7566|1981-12-03|3000|NULL|    20|    20|  RESEARCH|  DALLAS|\n",
      "| 7934|MILLER|    CLERK|7782|1982-01-23|1300|NULL|    10|    10|ACCOUNTING|NEW YORK|\n",
      "+-----+------+---------+----+----------+----+----+------+------+----------+--------+\n",
      "\n"
     ]
    }
   ],
   "source": [
    "# 직원, 부서 조인\n",
    "emp_dept_df = emp_df.join(dept_df, emp_df['deptno']==dept_df['deptno'])\n",
    "emp_dept_df.show()"
   ]
  },
  {
   "cell_type": "code",
   "execution_count": 185,
   "id": "dae953ed-0a8e-47b7-a359-d351867f7c61",
   "metadata": {},
   "outputs": [
    {
     "name": "stdout",
     "output_type": "stream",
     "text": [
      "+------+------+----------+\n",
      "| ename|deptno|     dname|\n",
      "+------+------+----------+\n",
      "| SMITH|    20|  RESEARCH|\n",
      "| ALLEN|    30|     SALES|\n",
      "|  WARD|    30|     SALES|\n",
      "| JONES|    20|  RESEARCH|\n",
      "|MARTIN|    30|     SALES|\n",
      "| BLAKE|    30|     SALES|\n",
      "| CLARK|    10|ACCOUNTING|\n",
      "| SCOTT|    20|  RESEARCH|\n",
      "|  KING|    10|ACCOUNTING|\n",
      "|TURNER|    30|     SALES|\n",
      "| ADAMS|    20|  RESEARCH|\n",
      "| JAMES|    30|     SALES|\n",
      "|  FORD|    20|  RESEARCH|\n",
      "|MILLER|    10|ACCOUNTING|\n",
      "+------+------+----------+\n",
      "\n"
     ]
    }
   ],
   "source": [
    "join_df = emp_df.join(dept_df, on='deptno', how='inner')\n",
    "join_df.select('ename', 'deptno', 'dname').show()"
   ]
  },
  {
   "cell_type": "code",
   "execution_count": 186,
   "id": "234e82b7-e20c-4157-83a9-0370394b659f",
   "metadata": {},
   "outputs": [],
   "source": [
    "spark.stop()"
   ]
  },
  {
   "cell_type": "code",
   "execution_count": null,
   "id": "335aa999-3201-4b79-b864-cda9c4117c78",
   "metadata": {},
   "outputs": [],
   "source": []
  },
  {
   "cell_type": "code",
   "execution_count": 1,
   "id": "5e373706-1d6e-4472-a3c4-24440b7ef14c",
   "metadata": {},
   "outputs": [],
   "source": [
    "from pyspark.sql import SparkSession\n",
    "spark = SparkSession.builder.appName(\"YellowTaxiTrips\").getOrCreate()"
   ]
  },
  {
   "cell_type": "code",
   "execution_count": 5,
   "id": "026c4155-79cd-4d6e-9624-38b15e8190e9",
   "metadata": {},
   "outputs": [
    {
     "name": "stdout",
     "output_type": "stream",
     "text": [
      "+--------+--------------------+---------------------+---------------+-------------+----------+------------------+------------+------------+------------+-----------+-----+-------+----------+------------+---------------------+------------+--------------------+\n",
      "|VendorID|tpep_pickup_datetime|tpep_dropoff_datetime|passenger_count|trip_distance|RatecodeID|store_and_fwd_flag|PULocationID|DOLocationID|payment_type|fare_amount|extra|mta_tax|tip_amount|tolls_amount|improvement_surcharge|total_amount|congestion_surcharge|\n",
      "+--------+--------------------+---------------------+---------------+-------------+----------+------------------+------------+------------+------------+-----------+-----+-------+----------+------------+---------------------+------------+--------------------+\n",
      "|       1| 2021-06-01 00:13:26|  2021-06-01 00:17:14|              1|          .90|         1|                 N|         186|          50|           1|          5|    3|    0.5|       2.2|           0|                  0.3|          11|                 2.5|\n",
      "|       1| 2021-06-01 00:32:23|  2021-06-01 01:07:04|              1|        23.00|         1|                 N|         132|          18|           2|       61.5| 1.75|    0.5|         0|        6.55|                  0.3|        70.6|                   0|\n",
      "|       1| 2021-06-01 00:12:15|  2021-06-01 00:15:28|              0|          .90|         1|                 N|         138|          70|           2|          5| 1.75|    0.5|         0|           0|                  0.3|        7.55|                   0|\n",
      "|       1| 2021-06-01 00:35:00|  2021-06-01 00:53:17|              0|        11.20|         1|                 N|         138|         189|           1|       31.5| 1.75|    0.5|       8.5|           0|                  0.3|       42.55|                   0|\n",
      "|       2| 2021-06-01 00:31:01|  2021-06-01 00:52:27|              1|         9.49|         1|                 N|         138|         142|           1|       28.5|  0.5|    0.5|      7.77|        6.55|                  0.3|       47.87|                 2.5|\n",
      "+--------+--------------------+---------------------+---------------+-------------+----------+------------------+------------+------------+------------+-----------+-----+-------+----------+------------+---------------------+------------+--------------------+\n",
      "only showing top 5 rows\n",
      "\n"
     ]
    }
   ],
   "source": [
    "trips_df = spark.read.option(\"header\", \"true\").csv(\"./learning_spark_data/trips/\")\n",
    "trips_df.show(5)"
   ]
  },
  {
   "cell_type": "code",
   "execution_count": null,
   "id": "c63b2adc-3d28-451f-86ce-fee7a97fdc53",
   "metadata": {},
   "outputs": [],
   "source": []
  },
  {
   "cell_type": "code",
   "execution_count": 4,
   "id": "7562892e-9138-4706-a1c8-3e760a6029d4",
   "metadata": {},
   "outputs": [
    {
     "name": "stdout",
     "output_type": "stream",
     "text": [
      "+----------+-------------+--------------------+------------+\n",
      "|LocationID|      Borough|                Zone|service_zone|\n",
      "+----------+-------------+--------------------+------------+\n",
      "|         1|          EWR|      Newark Airport|         EWR|\n",
      "|         2|       Queens|         Jamaica Bay|   Boro Zone|\n",
      "|         3|        Bronx|Allerton/Pelham G...|   Boro Zone|\n",
      "|         4|    Manhattan|       Alphabet City| Yellow Zone|\n",
      "|         5|Staten Island|       Arden Heights|   Boro Zone|\n",
      "+----------+-------------+--------------------+------------+\n",
      "only showing top 5 rows\n",
      "\n"
     ]
    }
   ],
   "source": [
    "zone_df = spark.read.option(\"header\", \"true\").csv(\"./learning_spark_data/taxi+_zone_lookup.csv\")\n",
    "zone_df.show(5)"
   ]
  },
  {
   "cell_type": "code",
   "execution_count": 6,
   "id": "b031f638-2c0b-440d-abc0-6c017e2fd67f",
   "metadata": {},
   "outputs": [],
   "source": [
    "spark.stop()"
   ]
  }
 ],
 "metadata": {
  "kernelspec": {
   "display_name": "Python 3 (ipykernel)",
   "language": "python",
   "name": "python3"
  },
  "language_info": {
   "codemirror_mode": {
    "name": "ipython",
    "version": 3
   },
   "file_extension": ".py",
   "mimetype": "text/x-python",
   "name": "python",
   "nbconvert_exporter": "python",
   "pygments_lexer": "ipython3",
   "version": "3.11.6"
  }
 },
 "nbformat": 4,
 "nbformat_minor": 5
}
