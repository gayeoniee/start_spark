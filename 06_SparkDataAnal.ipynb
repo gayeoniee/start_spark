{
 "cells": [
  {
   "cell_type": "code",
   "execution_count": 1,
   "id": "5e373706-1d6e-4472-a3c4-24440b7ef14c",
   "metadata": {},
   "outputs": [],
   "source": [
    "from pyspark.sql import SparkSession\n",
    "spark = SparkSession.builder.appName(\"YellowTaxiTrips\").getOrCreate()"
   ]
  },
  {
   "cell_type": "code",
   "execution_count": 5,
   "id": "026c4155-79cd-4d6e-9624-38b15e8190e9",
   "metadata": {},
   "outputs": [
    {
     "name": "stdout",
     "output_type": "stream",
     "text": [
      "+--------+--------------------+---------------------+---------------+-------------+----------+------------------+------------+------------+------------+-----------+-----+-------+----------+------------+---------------------+------------+--------------------+\n",
      "|VendorID|tpep_pickup_datetime|tpep_dropoff_datetime|passenger_count|trip_distance|RatecodeID|store_and_fwd_flag|PULocationID|DOLocationID|payment_type|fare_amount|extra|mta_tax|tip_amount|tolls_amount|improvement_surcharge|total_amount|congestion_surcharge|\n",
      "+--------+--------------------+---------------------+---------------+-------------+----------+------------------+------------+------------+------------+-----------+-----+-------+----------+------------+---------------------+------------+--------------------+\n",
      "|       1| 2021-06-01 00:13:26|  2021-06-01 00:17:14|              1|          .90|         1|                 N|         186|          50|           1|          5|    3|    0.5|       2.2|           0|                  0.3|          11|                 2.5|\n",
      "|       1| 2021-06-01 00:32:23|  2021-06-01 01:07:04|              1|        23.00|         1|                 N|         132|          18|           2|       61.5| 1.75|    0.5|         0|        6.55|                  0.3|        70.6|                   0|\n",
      "|       1| 2021-06-01 00:12:15|  2021-06-01 00:15:28|              0|          .90|         1|                 N|         138|          70|           2|          5| 1.75|    0.5|         0|           0|                  0.3|        7.55|                   0|\n",
      "|       1| 2021-06-01 00:35:00|  2021-06-01 00:53:17|              0|        11.20|         1|                 N|         138|         189|           1|       31.5| 1.75|    0.5|       8.5|           0|                  0.3|       42.55|                   0|\n",
      "|       2| 2021-06-01 00:31:01|  2021-06-01 00:52:27|              1|         9.49|         1|                 N|         138|         142|           1|       28.5|  0.5|    0.5|      7.77|        6.55|                  0.3|       47.87|                 2.5|\n",
      "+--------+--------------------+---------------------+---------------+-------------+----------+------------------+------------+------------+------------+-----------+-----+-------+----------+------------+---------------------+------------+--------------------+\n",
      "only showing top 5 rows\n",
      "\n"
     ]
    }
   ],
   "source": [
    "trips_df = spark.read.option(\"header\", \"true\").csv(\"./learning_spark_data/trips/\")\n",
    "trips_df.show(5)"
   ]
  },
  {
   "cell_type": "code",
   "execution_count": null,
   "id": "c63b2adc-3d28-451f-86ce-fee7a97fdc53",
   "metadata": {},
   "outputs": [],
   "source": []
  },
  {
   "cell_type": "code",
   "execution_count": 4,
   "id": "7562892e-9138-4706-a1c8-3e760a6029d4",
   "metadata": {},
   "outputs": [
    {
     "name": "stdout",
     "output_type": "stream",
     "text": [
      "+----------+-------------+--------------------+------------+\n",
      "|LocationID|      Borough|                Zone|service_zone|\n",
      "+----------+-------------+--------------------+------------+\n",
      "|         1|          EWR|      Newark Airport|         EWR|\n",
      "|         2|       Queens|         Jamaica Bay|   Boro Zone|\n",
      "|         3|        Bronx|Allerton/Pelham G...|   Boro Zone|\n",
      "|         4|    Manhattan|       Alphabet City| Yellow Zone|\n",
      "|         5|Staten Island|       Arden Heights|   Boro Zone|\n",
      "+----------+-------------+--------------------+------------+\n",
      "only showing top 5 rows\n",
      "\n"
     ]
    }
   ],
   "source": [
    "zone_df = spark.read.option(\"header\", \"true\").csv(\"./learning_spark_data/taxi+_zone_lookup.csv\")\n",
    "zone_df.show(5)"
   ]
  },
  {
   "cell_type": "code",
   "execution_count": 6,
   "id": "b031f638-2c0b-440d-abc0-6c017e2fd67f",
   "metadata": {},
   "outputs": [],
   "source": [
    "spark.stop()"
   ]
  },
  {
   "cell_type": "code",
   "execution_count": null,
   "id": "6f6652b2-0d6f-445c-b68b-e387c6dd20f0",
   "metadata": {},
   "outputs": [],
   "source": []
  }
 ],
 "metadata": {
  "kernelspec": {
   "display_name": "Python 3 (ipykernel)",
   "language": "python",
   "name": "python3"
  },
  "language_info": {
   "codemirror_mode": {
    "name": "ipython",
    "version": 3
   },
   "file_extension": ".py",
   "mimetype": "text/x-python",
   "name": "python",
   "nbconvert_exporter": "python",
   "pygments_lexer": "ipython3",
   "version": "3.11.6"
  }
 },
 "nbformat": 4,
 "nbformat_minor": 5
}
