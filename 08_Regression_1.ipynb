{
 "cells": [
  {
   "cell_type": "code",
   "execution_count": 1,
   "id": "0cf77318-9157-4625-a7c2-7d2bcb43f681",
   "metadata": {},
   "outputs": [],
   "source": [
    "from pyspark.sql import SparkSession\n",
    "spark = SparkSession.builder.appName('taxi-fare-prediction').getOrCreate()"
   ]
  },
  {
   "cell_type": "code",
   "execution_count": 2,
   "id": "d80eedab-bc40-4d33-8e2e-040a64e1c0a8",
   "metadata": {},
   "outputs": [
    {
     "data": {
      "text/plain": [
       "'/home/jovyan/work/learning_spark_data/trips/*.csv'"
      ]
     },
     "execution_count": 2,
     "metadata": {},
     "output_type": "execute_result"
    }
   ],
   "source": [
    "import os\n",
    "cwd = os.getcwd()\n",
    "trip_data_path = os.path.join(cwd, 'learning_spark_data', 'trips', '*.csv')\n",
    "trip_data_path"
   ]
  },
  {
   "cell_type": "code",
   "execution_count": 4,
   "id": "4e1c3012-76a2-4ed4-b8f9-a14900d26982",
   "metadata": {},
   "outputs": [
    {
     "data": {
      "text/plain": [
       "'file:////home/jovyan/work/learning_spark_data/trips/*.csv'"
      ]
     },
     "execution_count": 4,
     "metadata": {},
     "output_type": "execute_result"
    }
   ],
   "source": [
    "file_path = f\"file:///{trip_data_path.replace(os.sep, '/')}\"\n",
    "file_path"
   ]
  },
  {
   "cell_type": "code",
   "execution_count": 24,
   "id": "3ab23310-af07-4834-b5ac-6e89ecb4e7b0",
   "metadata": {},
   "outputs": [
    {
     "name": "stdout",
     "output_type": "stream",
     "text": [
      "root\n",
      " |-- VendorID: integer (nullable = true)\n",
      " |-- tpep_pickup_datetime: timestamp (nullable = true)\n",
      " |-- tpep_dropoff_datetime: timestamp (nullable = true)\n",
      " |-- passenger_count: integer (nullable = true)\n",
      " |-- trip_distance: double (nullable = true)\n",
      " |-- RatecodeID: integer (nullable = true)\n",
      " |-- store_and_fwd_flag: string (nullable = true)\n",
      " |-- PULocationID: integer (nullable = true)\n",
      " |-- DOLocationID: integer (nullable = true)\n",
      " |-- payment_type: integer (nullable = true)\n",
      " |-- fare_amount: double (nullable = true)\n",
      " |-- extra: double (nullable = true)\n",
      " |-- mta_tax: double (nullable = true)\n",
      " |-- tip_amount: double (nullable = true)\n",
      " |-- tolls_amount: double (nullable = true)\n",
      " |-- improvement_surcharge: double (nullable = true)\n",
      " |-- total_amount: double (nullable = true)\n",
      " |-- congestion_surcharge: double (nullable = true)\n",
      "\n"
     ]
    }
   ],
   "source": [
    "trip_df = spark.read.csv(file_path, inferSchema=True, header=True)\n",
    "trip_df.printSchema()"
   ]
  },
  {
   "cell_type": "markdown",
   "id": "2a3500de-388b-452b-be30-072ff23053b2",
   "metadata": {},
   "source": [
    "# 운행거리에 따른 요금 예측"
   ]
  },
  {
   "cell_type": "code",
   "execution_count": 25,
   "id": "b9433a01-1350-44ae-ac64-24bf177c8a94",
   "metadata": {},
   "outputs": [],
   "source": [
    "trip_df.createOrReplaceTempView('trips')"
   ]
  },
  {
   "cell_type": "code",
   "execution_count": 26,
   "id": "0398fe7d-0060-4f44-8531-5dd589e1194b",
   "metadata": {},
   "outputs": [],
   "source": [
    "query = \"\"\"\n",
    "SELECT\n",
    "    trip_distance,\n",
    "    total_amount\n",
    "FROM trips\n",
    "\n",
    "WHERE total_amount < 5000\n",
    "  AND total_amount > 0\n",
    "  AND trip_distance > 0\n",
    "  AND trip_distance < 500\n",
    "  AND passenger_count < 4\n",
    "  AND TO_DATE(tpep_pickup_datetime) >= \"2021-01-01\"\n",
    "  AND TO_DATE(tpep_pickup_datetime) < \"2021-08-01\"\n",
    "\"\"\""
   ]
  },
  {
   "cell_type": "code",
   "execution_count": 27,
   "id": "5bca01a9-8802-470b-9cc6-d1fd61661e23",
   "metadata": {},
   "outputs": [],
   "source": [
    "trip_df = spark.sql(query)\n",
    "trip_df.createOrReplaceTempView('data')"
   ]
  },
  {
   "cell_type": "code",
   "execution_count": 28,
   "id": "795d322f-346d-43bb-9144-ad6eb9fd6d53",
   "metadata": {},
   "outputs": [
    {
     "name": "stdout",
     "output_type": "stream",
     "text": [
      "+-------------+------------+\n",
      "|trip_distance|total_amount|\n",
      "+-------------+------------+\n",
      "|         16.5|       70.07|\n",
      "|         1.13|       11.16|\n",
      "|         2.68|       18.59|\n",
      "|         12.4|        43.8|\n",
      "|          9.7|        32.3|\n",
      "+-------------+------------+\n",
      "\n"
     ]
    }
   ],
   "source": [
    "# data table 결과 확인하기\n",
    "spark.sql('select * from data limit 5').show()"
   ]
  },
  {
   "cell_type": "code",
   "execution_count": 29,
   "id": "1027127b-b99b-4ad3-a8f5-d1ce66c3da05",
   "metadata": {},
   "outputs": [],
   "source": [
    "# train, text split 8:2\n",
    "train_data, test_data = trip_df.randomSplit([0.8, 0.2], seed=42)"
   ]
  },
  {
   "cell_type": "code",
   "execution_count": 30,
   "id": "3d505805-faac-4cb2-82aa-5e84da954c56",
   "metadata": {},
   "outputs": [
    {
     "name": "stdout",
     "output_type": "stream",
     "text": [
      "+--------+------------+\n",
      "|features|total_amount|\n",
      "+--------+------------+\n",
      "|  [0.01]|        3.05|\n",
      "|  [0.01]|         3.3|\n",
      "|  [0.01]|         3.3|\n",
      "|  [0.01]|         3.3|\n",
      "|  [0.01]|         3.3|\n",
      "+--------+------------+\n",
      "only showing top 5 rows\n",
      "\n"
     ]
    }
   ],
   "source": [
    "# vectorassembler > feature: trip_distance, target: total_amount\n",
    "from pyspark.ml.feature import VectorAssembler\n",
    "assembler = VectorAssembler(\n",
    "    inputCols=['trip_distance'],\n",
    "    outputCol='features'\n",
    ")\n",
    "vtrain_data = assembler.transform(train_data)\n",
    "vtrain_data.select('features', 'total_amount').show(5)"
   ]
  },
  {
   "cell_type": "code",
   "execution_count": 31,
   "id": "798835fc-2f08-40d1-98b5-6dd87e7ba0ad",
   "metadata": {},
   "outputs": [],
   "source": [
    "# LinearRegression 생성 maxIter=50, LabelCol='total_amount', featuresCol='features'\n",
    "from pyspark.ml.regression import LinearRegression\n",
    "lr = LinearRegression(maxIter=50, labelCol='total_amount', featuresCol='features')"
   ]
  },
  {
   "cell_type": "code",
   "execution_count": 32,
   "id": "448edffc-61cd-4369-848f-4d8f4d5749f2",
   "metadata": {},
   "outputs": [],
   "source": [
    "lr_model = lr.fit(vtrain_data)"
   ]
  },
  {
   "cell_type": "code",
   "execution_count": 33,
   "id": "4282c5b6-34c3-412a-817a-f17a25d9bf91",
   "metadata": {},
   "outputs": [],
   "source": [
    "vtest_data = assembler.transform(test_data)\n",
    "predict = lr_model.transform(vtest_data)"
   ]
  },
  {
   "cell_type": "code",
   "execution_count": 34,
   "id": "a6b3bea7-7ed2-4ecb-8fa7-1140e25b9d8a",
   "metadata": {},
   "outputs": [
    {
     "name": "stdout",
     "output_type": "stream",
     "text": [
      "+-------------+------------+-----------------+\n",
      "|trip_distance|total_amount|       prediction|\n",
      "+-------------+------------+-----------------+\n",
      "|         0.01|         3.3|9.456331528402249|\n",
      "|         0.01|         3.3|9.456331528402249|\n",
      "|         0.01|         3.3|9.456331528402249|\n",
      "|         0.01|         3.3|9.456331528402249|\n",
      "|         0.01|         3.3|9.456331528402249|\n",
      "+-------------+------------+-----------------+\n",
      "only showing top 5 rows\n",
      "\n"
     ]
    }
   ],
   "source": [
    "predict.select(\"trip_distance\", \"total_amount\", \"prediction\").show(5)"
   ]
  },
  {
   "cell_type": "code",
   "execution_count": 37,
   "id": "e6e7e446-93ae-4a7a-8e27-8fbf781517d4",
   "metadata": {},
   "outputs": [
    {
     "data": {
      "text/plain": [
       "6.327254163711281"
      ]
     },
     "execution_count": 37,
     "metadata": {},
     "output_type": "execute_result"
    }
   ],
   "source": [
    "lr_model.summary.rootMeanSquaredError  # RMSE"
   ]
  },
  {
   "cell_type": "code",
   "execution_count": 38,
   "id": "f00a78e4-e76b-4bdd-8a0b-a20fa00a97ab",
   "metadata": {},
   "outputs": [
    {
     "data": {
      "text/plain": [
       "0.7632471624501415"
      ]
     },
     "execution_count": 38,
     "metadata": {},
     "output_type": "execute_result"
    }
   ],
   "source": [
    "lr_model.summary.r2"
   ]
  },
  {
   "cell_type": "markdown",
   "id": "44fce60c-3afa-4403-9299-00b3718bf59c",
   "metadata": {},
   "source": [
    "# 새로운 데이터로 예측하기"
   ]
  },
  {
   "cell_type": "code",
   "execution_count": 44,
   "id": "25c6935e-2445-40bd-8911-1e8faf721b4f",
   "metadata": {},
   "outputs": [
    {
     "name": "stdout",
     "output_type": "stream",
     "text": [
      "+-------------+\n",
      "|trip_distance|\n",
      "+-------------+\n",
      "|          1.1|\n",
      "|          5.4|\n",
      "|         10.2|\n",
      "|         30.0|\n",
      "+-------------+\n",
      "\n"
     ]
    }
   ],
   "source": [
    "from pyspark.sql.types import DoubleType\n",
    "new_distance_list = [1.1, 5.4, 10.2, 30.0]\n",
    "distance_df = spark.createDataFrame(new_distance_list, DoubleType()).toDF('trip_distance')\n",
    "distance_df.show()"
   ]
  },
  {
   "cell_type": "code",
   "execution_count": 45,
   "id": "21185c51-591a-444f-9c97-fb24040f8b3d",
   "metadata": {},
   "outputs": [
    {
     "name": "stdout",
     "output_type": "stream",
     "text": [
      "+-------------+--------+------------------+\n",
      "|trip_distance|features|        prediction|\n",
      "+-------------+--------+------------------+\n",
      "|          1.1|   [1.1]|12.688765151833177|\n",
      "|          5.4|   [5.4]|25.440567519496476|\n",
      "|         10.2|  [10.2]| 39.67513760432992|\n",
      "|         30.0|  [30.0]| 98.39273920426788|\n",
      "+-------------+--------+------------------+\n",
      "\n"
     ]
    }
   ],
   "source": [
    "vdistance_df = assembler.transform(distance_df)\n",
    "lr_model.transform(vdistance_df).show()"
   ]
  },
  {
   "cell_type": "code",
   "execution_count": 46,
   "id": "5b450c9b-6a5a-418e-93de-8674ef9d82f5",
   "metadata": {},
   "outputs": [],
   "source": [
    "spark.stop()"
   ]
  },
  {
   "cell_type": "code",
   "execution_count": null,
   "id": "8b39f9de-36fb-4587-8978-be3eda7c614a",
   "metadata": {},
   "outputs": [],
   "source": []
  }
 ],
 "metadata": {
  "kernelspec": {
   "display_name": "Python 3 (ipykernel)",
   "language": "python",
   "name": "python3"
  },
  "language_info": {
   "codemirror_mode": {
    "name": "ipython",
    "version": 3
   },
   "file_extension": ".py",
   "mimetype": "text/x-python",
   "name": "python",
   "nbconvert_exporter": "python",
   "pygments_lexer": "ipython3",
   "version": "3.11.6"
  }
 },
 "nbformat": 4,
 "nbformat_minor": 5
}
