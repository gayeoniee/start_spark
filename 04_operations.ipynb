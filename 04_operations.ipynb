{
 "cells": [
  {
   "cell_type": "code",
   "execution_count": 1,
   "id": "76ab0bc0-ea47-4741-8717-88b566979fa6",
   "metadata": {},
   "outputs": [],
   "source": [
    "from pyspark.sql import SparkSession\n",
    "spark = SparkSession.builder.appName(\"restaurant-review-average\").master('local[*]').getOrCreate()\n",
    "sc = spark.sparkContext"
   ]
  },
  {
   "cell_type": "markdown",
   "id": "27c4b933-ae33-47f7-99da-3d314395d440",
   "metadata": {},
   "source": [
    "# Reduce\n",
    "```\n",
    "RDD.reduce(<func>)\n",
    "```\n",
    "- 사용자가 지정하는 함수를 받아 여러 개의 값을 하나로 줄여줌"
   ]
  },
  {
   "cell_type": "code",
   "execution_count": 2,
   "id": "96b91910-52f3-40fd-b35b-7cba8a494778",
   "metadata": {},
   "outputs": [],
   "source": [
    "from operator import add"
   ]
  },
  {
   "cell_type": "code",
   "execution_count": 3,
   "id": "8fc81916-ecd7-4dfe-9d86-f1cd8b44bf31",
   "metadata": {},
   "outputs": [
    {
     "data": {
      "text/plain": [
       "ParallelCollectionRDD[0] at readRDDFromFile at PythonRDD.scala:289"
      ]
     },
     "execution_count": 3,
     "metadata": {},
     "output_type": "execute_result"
    }
   ],
   "source": [
    "sample_rdd = sc.parallelize([1, 2, 3, 4, 5])\n",
    "sample_rdd"
   ]
  },
  {
   "cell_type": "code",
   "execution_count": 4,
   "id": "29848ea3-4ef0-41ed-9fa3-a5a0f8f4d195",
   "metadata": {},
   "outputs": [
    {
     "data": {
      "text/plain": [
       "15"
      ]
     },
     "execution_count": 4,
     "metadata": {},
     "output_type": "execute_result"
    }
   ],
   "source": [
    "#RDD에 있는 숫자의 합계를 계산:\n",
    "sample_rdd.reduce(add)"
   ]
  },
  {
   "cell_type": "code",
   "execution_count": 5,
   "id": "ba1b13b4-684d-442a-9245-daef1da28480",
   "metadata": {},
   "outputs": [
    {
     "data": {
      "text/plain": [
       "18"
      ]
     },
     "execution_count": 5,
     "metadata": {},
     "output_type": "execute_result"
    }
   ],
   "source": [
    "sample_rdd = sc.parallelize([1, 2, 3, 4])\n",
    "sample_rdd.reduce(lambda x, y : (x * 2)+ y)"
   ]
  },
  {
   "cell_type": "code",
   "execution_count": 6,
   "id": "7098ac73-3ad5-4535-83af-6de1f1513e04",
   "metadata": {},
   "outputs": [
    {
     "data": {
      "text/plain": [
       "18"
      ]
     },
     "execution_count": 6,
     "metadata": {},
     "output_type": "execute_result"
    }
   ],
   "source": [
    "sc.parallelize([1, 2, 3, 4], 2).reduce(lambda x, y : (x * 2) + y)"
   ]
  },
  {
   "cell_type": "markdown",
   "id": "14bdd26b-dbc8-43e2-ba13-e176815d14f2",
   "metadata": {},
   "source": [
    "```\n",
    "[1,2] | [3,4]\n",
    "1> 1 * 2 + 2 = 4\n",
    "2> 3 * 2 + 4 = 10\n",
    "1+2> 4, 10 → 4 * 2 + 10 = 18\n",
    "```"
   ]
  },
  {
   "cell_type": "code",
   "execution_count": 7,
   "id": "3e08900b-947a-474f-96e0-89dc75eed181",
   "metadata": {},
   "outputs": [
    {
     "data": {
      "text/plain": [
       "18"
      ]
     },
     "execution_count": 7,
     "metadata": {},
     "output_type": "execute_result"
    }
   ],
   "source": [
    "# 파티션을 3개로 지정\n",
    "sc.parallelize([1, 2, 3, 4], 3).reduce(lambda x, y : (x * 2) + y)"
   ]
  },
  {
   "cell_type": "markdown",
   "id": "4becebfa-eb5d-430d-bc76-b10461c898a9",
   "metadata": {},
   "source": [
    "```\n",
    "[1] | [2] | [3, 4]  \n",
    "1> 1 = 1   \n",
    "2> 2  = 2   \n",
    "3> 3 * 2 + 4  = 10   \n",
    "1+2> 4  -> 4 * 2+10 = 18\n",
    "```"
   ]
  },
  {
   "cell_type": "code",
   "execution_count": 8,
   "id": "eb442aed-dad2-4971-9065-0deb30695cec",
   "metadata": {},
   "outputs": [
    {
     "data": {
      "text/plain": [
       "26"
      ]
     },
     "execution_count": 8,
     "metadata": {},
     "output_type": "execute_result"
    }
   ],
   "source": [
    "sc.parallelize([1, 2, 3, 4], 1).reduce(lambda x, y : (x * 2) + y)"
   ]
  },
  {
   "cell_type": "markdown",
   "id": "371eb0b3-f295-4129-a678-9bd9bc83deef",
   "metadata": {},
   "source": [
    "```\n",
    "x=1,y=2 -> 1 * 2 + 2 = 4\n",
    "x=4, y=3 -> 4 * 2+3 = 11\n",
    "x=11, y=4 -> 11 * 2+4=26\n",
    "```"
   ]
  },
  {
   "cell_type": "markdown",
   "id": "4b5c2cbf-71b4-4787-93f0-4b87a76d9e10",
   "metadata": {},
   "source": [
    "# Fold\n",
    "\n",
    "```\n",
    "RDD.fold(zeroValue, <func>)\n",
    "```"
   ]
  },
  {
   "cell_type": "markdown",
   "id": "89e7a92c-3928-4768-a81e-23cba2a3c4cc",
   "metadata": {},
   "source": [
    "- reduce와 비슷하지만 zeroValue에 넣어놓고 싶은 시작값을 지정해서 reduce가 가능\n",
    "- zeroValue는 파티션 마다 계산이 일어날 때 하나씩 더해지는 값\n",
    "- fold()를 사용하여 합계를 구하되 초기값을 지정"
   ]
  },
  {
   "cell_type": "code",
   "execution_count": null,
   "id": "c28c1f09-bdf5-4380-a8b2-6862d889c3ff",
   "metadata": {},
   "outputs": [],
   "source": [
    "rdd = sc.parallelize([2, 3, 4], 4)\n",
    "\n",
    "#숫자의 곱을 계산해서 합한다\n",
    "print(rdd.reduce(lambda x, y : (x * y))) # 2 x 3 -> x 4\n",
    "print(rdd.fold(1, lambda x , y : (x * y))) # 1 x 2 x 3 x 4"
   ]
  },
  {
   "cell_type": "markdown",
   "id": "0ac4fcb6-7105-4402-bf8b-8061ece52c2b",
   "metadata": {},
   "source": [
    "1. 각 파티션마다 초기값 1부터 시작\n",
    "```\n",
    "-> 파티션1: 1 * 2 = 2\n",
    "-> 파티션2: 1 * 3 = 3\n",
    "-> 파티션3: 1 * 4 = 4\n",
    "-> 파티션4: (비어 있음 -> 초기값 1)\n",
    "```\n",
    "\n",
    "2. 파티션 결과끼리 합침\n",
    "-> (((2 * 3) * 4) * 1) = 24"
   ]
  },
  {
   "cell_type": "code",
   "execution_count": 10,
   "id": "71f7c695-4914-4d6c-ae22-56e1cae7a1fe",
   "metadata": {},
   "outputs": [
    {
     "name": "stdout",
     "output_type": "stream",
     "text": [
      "Total sum: 500000500000\n"
     ]
    }
   ],
   "source": [
    "# 대규모 숫자 데이터셋 생성\n",
    "numbers_rdd = sc.parallelize(range(1, 1000001))\n",
    "\n",
    "# fold를 사용하여 총합계 계산\n",
    "total_sum = numbers_rdd.fold(0, lambda x, y: x + y)\n",
    "\n",
    "print(f\"Total sum: {total_sum}\")"
   ]
  },
  {
   "cell_type": "code",
   "execution_count": 11,
   "id": "da7d8796-7977-4c29-b288-4c12203b6f48",
   "metadata": {},
   "outputs": [
    {
     "name": "stdout",
     "output_type": "stream",
     "text": [
      "Maximum salary: 80000\n"
     ]
    }
   ],
   "source": [
    "# 직원 급여 데이터\n",
    "salaries_rdd = sc.parallelize([50000, 60000, 55000, 75000, 65000, 80000])\n",
    "\n",
    "# fold를 사용하여 최대 급여 찾기\n",
    "max_salary = salaries_rdd.fold(0, lambda x, y: max(x, y))\n",
    "\n",
    "print(f\"Maximum salary: {max_salary}\")"
   ]
  },
  {
   "cell_type": "code",
   "execution_count": 12,
   "id": "7d388d89-7ba5-4ddf-98ae-c757ece1cf68",
   "metadata": {},
   "outputs": [
    {
     "name": "stdout",
     "output_type": "stream",
     "text": [
      "Maximum salary by department:\n",
      "IT: 65000\n",
      "HR: 50000\n",
      "Finance: 55000\n"
     ]
    }
   ],
   "source": [
    "# 부서별 직원 급여 데이터\n",
    "dept_salaries = [(\"IT\", 50000), (\"HR\", 45000), (\"IT\", 60000), \n",
    "                 (\"Finance\", 55000), (\"HR\", 50000), (\"IT\", 65000)]\n",
    "dept_rdd = sc.parallelize(dept_salaries)\n",
    "\n",
    "# foldByKey를 사용하여 부서별 최대 급여 찾기\n",
    "max_salary_by_dept = dept_rdd.foldByKey(0, lambda x, y: max(x, y))\n",
    "\n",
    "print(\"Maximum salary by department:\")\n",
    "for dept, max_salary in max_salary_by_dept.collect():\n",
    "    print(f\"{dept}: {max_salary}\")"
   ]
  },
  {
   "cell_type": "markdown",
   "id": "08187d27-021e-415e-86ef-d653fbbe98ce",
   "metadata": {},
   "source": [
    "# GroupBy\n",
    "```\n",
    "RDD.groupBy(<func>)\n",
    "```"
   ]
  },
  {
   "cell_type": "markdown",
   "id": "583a8508-0e2c-4b23-b0e4-dff7e02082b6",
   "metadata": {},
   "source": [
    "- 그룹핑 함수를 받아 reduction\n",
    "- groupBy() 메서드는 주어진 함수를 기준으로 RDD의 요소들을 그룹화"
   ]
  },
  {
   "cell_type": "code",
   "execution_count": 13,
   "id": "acee6f3e-80c9-464c-8d70-53f305ee98ac",
   "metadata": {},
   "outputs": [
    {
     "data": {
      "text/plain": [
       "[(0, [2, 8]), (1, [1, 1, 3, 5])]"
      ]
     },
     "execution_count": 13,
     "metadata": {},
     "output_type": "execute_result"
    }
   ],
   "source": [
    "# 홀수 짝수 그룹핑\n",
    "rdd = sc.parallelize([1, 1, 2, 3, 5, 8])\n",
    "result = rdd.groupBy(lambda x : x % 2).collect()\n",
    "\n",
    "sorted([(x, sorted(y)) for (x, y) in result])"
   ]
  },
  {
   "cell_type": "code",
   "execution_count": 18,
   "id": "af698b5c-91a4-4ef9-b0f6-5f9297717ab7",
   "metadata": {},
   "outputs": [],
   "source": [
    "#판매 데이터 분석 (카테고리별 총 매출 계산)\n",
    "sales_data = [\n",
    "    (\"Electronics\", 1000),\n",
    "    (\"Clothing\", 500),\n",
    "    (\"Electronics\", 1500),\n",
    "    (\"Books\", 300),\n",
    "    (\"Clothing\", 750),\n",
    "    (\"Books\", 200)\n",
    "]"
   ]
  },
  {
   "cell_type": "code",
   "execution_count": 24,
   "id": "0d91fb65-6535-4169-80ca-1486eeb49972",
   "metadata": {},
   "outputs": [
    {
     "name": "stdout",
     "output_type": "stream",
     "text": [
      "Clothing: $1250\n",
      "Electronics: $2500\n",
      "Books: $500\n"
     ]
    }
   ],
   "source": [
    "# RDD 생성\n",
    "sales_rdd = sc.parallelize(sales_data)\n",
    "\n",
    "# 카테고리별 총 매출 계산\n",
    "\n",
    "# 첫 번째 요소인 카테고리로 그룹   -> groupBy\n",
    "# 각 그룹에 대해 value만 뽑아 총합 계산  -> mapValues\n",
    "category_sales = sales_rdd.groupBy(lambda x: x[0]) \\\n",
    "    .mapValues(lambda values: sum(item[1] for item in values)) \\\n",
    "    .collect()\n",
    "\n",
    "# 결과 출력\n",
    "for category, total_sales in category_sales:\n",
    "    print(f\"{category}: ${total_sales}\")"
   ]
  },
  {
   "cell_type": "code",
   "execution_count": 25,
   "id": "3f9ac772-4f27-45ac-96d7-36287c1945dd",
   "metadata": {},
   "outputs": [],
   "source": [
    "#로그 데이터 처리 (IP 주소별 접속 횟수 분석)\n",
    "# SparkContext 생성 가정 (sc)\n",
    "log_data = [\n",
    "    (\"192.168.1.1\", \"login\"),\n",
    "    (\"192.168.1.2\", \"purchase\"),\n",
    "    (\"192.168.1.1\", \"view\"),\n",
    "    (\"192.168.1.3\", \"login\"),\n",
    "    (\"192.168.1.2\", \"login\"),\n",
    "    (\"192.168.1.1\", \"purchase\")\n",
    "]\n",
    "\n",
    "# RDD 생성\n",
    "log_rdd = sc.parallelize(log_data)"
   ]
  },
  {
   "cell_type": "code",
   "execution_count": 27,
   "id": "b261eb37-81c2-4d70-9aba-a2c77ee54008",
   "metadata": {},
   "outputs": [
    {
     "name": "stdout",
     "output_type": "stream",
     "text": [
      "192.168.1.1: 3\n",
      "192.168.1.2: 2\n",
      "192.168.1.3: 1\n",
      "\n"
     ]
    }
   ],
   "source": [
    "log_counts = log_rdd.groupBy(lambda x: x[0]) \\\n",
    "    .mapValues(lambda values: len(list(values))) \\\n",
    "    .collect()\n",
    "\n",
    "for ip, count in log_counts:\n",
    "    print(f\"{ip}: {count}\")\n",
    "print()"
   ]
  },
  {
   "cell_type": "code",
   "execution_count": null,
   "id": "2b61fd93-b724-4a0b-90c1-a63cc5e5b74f",
   "metadata": {},
   "outputs": [],
   "source": []
  },
  {
   "cell_type": "code",
   "execution_count": 28,
   "id": "31a8a422-df3f-47ad-beea-9b3c5476cab2",
   "metadata": {},
   "outputs": [],
   "source": [
    "#학생 성적 데이터 분석 (과목별 평균 성적 계산)\n",
    "# SparkContext 생성 가정 (sc)\n",
    "student_grades = [\n",
    "    (\"Math\", 85),\n",
    "    (\"English\", 90),\n",
    "    (\"Math\", 92),\n",
    "    (\"Science\", 88),\n",
    "    (\"English\", 95),\n",
    "    (\"Science\", 82)\n",
    "]\n",
    "\n",
    "# RDD 생성\n",
    "grades_rdd = sc.parallelize(student_grades)"
   ]
  },
  {
   "cell_type": "code",
   "execution_count": 29,
   "id": "9adb6ca3-6d02-436e-8382-0453002b948c",
   "metadata": {},
   "outputs": [
    {
     "name": "stdout",
     "output_type": "stream",
     "text": [
      "Science: 85.0\n",
      "Math: 88.5\n",
      "English: 92.5\n"
     ]
    }
   ],
   "source": [
    "subject_avg = grades_rdd.groupBy(lambda x: x[0]) \\\n",
    "    .mapValues(lambda values: sum([x[1] for x in values]) / len(list(values))) \\\n",
    "    .collect()\n",
    "\n",
    "for subject, avg in subject_avg:\n",
    "    print(f\"{subject}: {avg}\")"
   ]
  },
  {
   "cell_type": "code",
   "execution_count": 34,
   "id": "0842773a-2885-4912-9e2c-1776cbfb3c57",
   "metadata": {},
   "outputs": [],
   "source": [
    "sc.stop()"
   ]
  },
  {
   "cell_type": "markdown",
   "id": "b1eb876d-b47a-47f4-a7c6-25467ab4e871",
   "metadata": {},
   "source": [
    "# aggregate"
   ]
  },
  {
   "cell_type": "code",
   "execution_count": 33,
   "id": "2a44aabc-32b3-4058-923c-f4ba97a53bf8",
   "metadata": {},
   "outputs": [],
   "source": [
    "#  aggregate 함수 사용 예제"
   ]
  },
  {
   "cell_type": "code",
   "execution_count": 35,
   "id": "fa941ab3-5ac4-4e3d-8091-66c1ac730696",
   "metadata": {},
   "outputs": [
    {
     "data": {
      "text/plain": [
       "[1, 5, 3, 9, 2, 8, 4, 7, 6]"
      ]
     },
     "execution_count": 35,
     "metadata": {},
     "output_type": "execute_result"
    }
   ],
   "source": [
    "from pyspark import SparkContext\n",
    "\n",
    "sc = SparkContext.getOrCreate()\n",
    "numbers = sc.parallelize([1, 5, 3, 9, 2, 8, 4, 7, 6], numSlices=3)\n",
    "numbers.collect()"
   ]
  },
  {
   "cell_type": "code",
   "execution_count": 36,
   "id": "d947110b-af5f-4aae-9210-665e1f394a61",
   "metadata": {},
   "outputs": [],
   "source": [
    "# glom()은 각 파티션의 내용을 리스트로 감싸서 반환\n",
    "# 즉 파티션 간의 이동이 없고 내부 자료구조만 바꾸는 연산\n",
    "# glom()은 RDD의 각 파티션을 배열 형태로 변환하는 narrow transformation"
   ]
  },
  {
   "cell_type": "code",
   "execution_count": 37,
   "id": "b34ed066-a240-4117-9bc5-dc3347c86d4b",
   "metadata": {},
   "outputs": [
    {
     "data": {
      "text/plain": [
       "[[1, 5, 3], [9, 2, 8], [4, 7, 6]]"
      ]
     },
     "execution_count": 37,
     "metadata": {},
     "output_type": "execute_result"
    }
   ],
   "source": [
    "numbers.glom().collect()"
   ]
  },
  {
   "cell_type": "code",
   "execution_count": 41,
   "id": "f03f485d-e79b-4a68-a4e4-67f1b03f2cc2",
   "metadata": {},
   "outputs": [],
   "source": [
    "numbers = sc.parallelize([1, 5, 3, 9, 2, 8, 4, 7, 6])"
   ]
  },
  {
   "cell_type": "code",
   "execution_count": 42,
   "id": "36f634e4-1853-437e-87ec-3888a952d3a8",
   "metadata": {},
   "outputs": [
    {
     "data": {
      "text/plain": [
       "[[1, 5, 3, 9], [2, 8, 4, 7, 6]]"
      ]
     },
     "execution_count": 42,
     "metadata": {},
     "output_type": "execute_result"
    }
   ],
   "source": [
    "numbers.glom().collect()"
   ]
  },
  {
   "cell_type": "code",
   "execution_count": 43,
   "id": "d697c832-99b4-44c0-b62f-ec7aec6729a1",
   "metadata": {},
   "outputs": [
    {
     "data": {
      "text/plain": [
       "(45, 9)"
      ]
     },
     "execution_count": 43,
     "metadata": {},
     "output_type": "execute_result"
    }
   ],
   "source": [
    "# 평균 계산하기\n",
    "sum_count = numbers.aggregate(\n",
    "    (0, 0),  # 초기값 (합계, 개수)\n",
    "    lambda acc, value: (acc[0] + value, acc[1] + 1),  # 각 파티션 내 연산\n",
    "    lambda acc1, acc2: (acc1[0] + acc2[0], acc1[1] + acc2[1])  # 파티션 간 연산\n",
    ")\n",
    "sum_count"
   ]
  },
  {
   "cell_type": "markdown",
   "id": "146f9f69-8535-4133-814b-d09d7d33ef22",
   "metadata": {},
   "source": [
    "```\n",
    "Partition 1: [1, 5, 3, 9]\n",
    "초기값: (0, 0)\n",
    "계산 순서:\n",
    "\n",
    "(0, 0) + 1 → (1, 1)\n",
    "(1, 1) + 5 → (6, 2)\n",
    "(6, 2) + 3 → (9, 3)\n",
    "(9, 3) + 9 → (18, 4)\n",
    "\n",
    "Partition 1 결과: (18, 4)\n",
    "```\n",
    "```\n",
    "Partition 2: [2, 8, 4, 7, 6]\n",
    "초기값: (0, 0)\n",
    "계산 순서:\n",
    "\n",
    "(0, 0) + 2 → (2, 1)\n",
    "(2, 1) + 8 → (10, 2)\n",
    "(10, 2) + 4 → (14, 3)\n",
    "(14, 3) + 7 → (21, 4)\n",
    "(21, 4) + 6 → (27, 5)\n",
    "\n",
    "Partition 2 결과: (27, 5)\n",
    "\n",
    "```\n",
    "\n",
    "(18, 4) + (27, 5) = (45, 9)"
   ]
  },
  {
   "cell_type": "code",
   "execution_count": 45,
   "id": "78fd7000-1d41-44c9-b20b-60db631f1111",
   "metadata": {},
   "outputs": [
    {
     "name": "stdout",
     "output_type": "stream",
     "text": [
      "Average: 5.0\n"
     ]
    }
   ],
   "source": [
    "average = sum_count[0] / sum_count[1]\n",
    "print(\"Average:\", average)  # 5.0"
   ]
  },
  {
   "cell_type": "code",
   "execution_count": 54,
   "id": "fac88cfa-8ef7-4fd3-b696-40ea732288c9",
   "metadata": {},
   "outputs": [],
   "source": [
    "# agg 연습\n",
    "data = [\"hello\", \"world\", \"spark\"]\n",
    "rdd = sc.parallelize(data)\n",
    "\n",
    "def seq_op(acc, value):\n",
    "    text, idx = acc\n",
    "    return (f\"{text} {idx}:{value}\".strip(), idx + 1)\n",
    "\n",
    "def comb_op(acc1, acc2):\n",
    "    # 줄 번호 이어붙이기: 앞쪽 text 유지 + 뒤쪽 text 뒤에 붙이기\n",
    "    text1, idx1 = acc1\n",
    "    text2, idx2 = acc2\n",
    "    # 줄 번호 충돌 피하려면 idx 조정 필요 (복잡하므로 단순히 붙임)\n",
    "    return (f\"{text1} {text2}\".strip(), idx1 + idx2)"
   ]
  },
  {
   "cell_type": "code",
   "execution_count": 55,
   "id": "ceeff5e8-c214-4286-8fd2-15ba3874e4a6",
   "metadata": {},
   "outputs": [
    {
     "data": {
      "text/plain": [
       "[['hello'], ['world', 'spark']]"
      ]
     },
     "execution_count": 55,
     "metadata": {},
     "output_type": "execute_result"
    }
   ],
   "source": [
    "rdd.glom().collect()"
   ]
  },
  {
   "cell_type": "code",
   "execution_count": 57,
   "id": "44bd3a95-f2a7-4189-9b8f-ddb2abfd3d78",
   "metadata": {},
   "outputs": [
    {
     "name": "stdout",
     "output_type": "stream",
     "text": [
      "1:hello 1:world 2:spark\n"
     ]
    }
   ],
   "source": [
    "zero = (\"\", 1)\n",
    "\n",
    "result = rdd.aggregate(zero, seq_op, comb_op)[0]\n",
    "print(result)"
   ]
  },
  {
   "cell_type": "markdown",
   "id": "1f84cd85-3d90-4218-8afa-4b1341ec5e36",
   "metadata": {},
   "source": [
    "Partition 0:\n",
    "\n",
    "`(\"\", 1) → \"hello\" → \"1:hello\", 2`\n",
    "\n",
    "Partition 1:\n",
    "\n",
    "`(\"\", 1) → \"world\" → \"1:world\", 2`\n",
    "\n",
    "`\"1:world\", 2 → \"spark\" → \"1:world 2:spark\", 3`\n",
    "\n",
    "병합 (comb_op)\n",
    "\n",
    "`\"1:hello\" + \"1:world 2:spark\" → \"1:hello 1:world 2:spark\"`"
   ]
  },
  {
   "cell_type": "code",
   "execution_count": 51,
   "id": "b9e19641-dd46-4741-a731-40835204a621",
   "metadata": {},
   "outputs": [
    {
     "name": "stdout",
     "output_type": "stream",
     "text": [
      "1:spark 2:hadoop 1:ai 2:python 3:sql\n"
     ]
    }
   ],
   "source": [
    "rdd = sc.parallelize([\"spark\", \"hadoop\", \"ai\", \"python\", \"sql\"])\n",
    "result = rdd.aggregate(zero, seq_op, comb_op)[0]\n",
    "print(result)"
   ]
  },
  {
   "cell_type": "code",
   "execution_count": 52,
   "id": "f6d5b3db-22f4-489f-9975-55cdb97a52e3",
   "metadata": {},
   "outputs": [
    {
     "name": "stdout",
     "output_type": "stream",
     "text": [
      "길이 5 이상인 문자열 개수: 3\n"
     ]
    }
   ],
   "source": [
    "# 길이가 5 이상인 문자열 개수 세기\n",
    "rdd = sc.parallelize([\"spark\", \"hadoop\", \"ai\", \"python\", \"sql\"])\n",
    "\n",
    "result = rdd.aggregate(\n",
    "    0,\n",
    "    lambda acc, value: acc + (1 if len(value) >= 5 else 0),\n",
    "    lambda acc1, acc2: acc1 + acc2\n",
    ")\n",
    "\n",
    "print(\"길이 5 이상인 문자열 개수:\", result)"
   ]
  },
  {
   "cell_type": "code",
   "execution_count": 58,
   "id": "dcb796a5-89e1-43a3-8a6e-20205ad5db44",
   "metadata": {},
   "outputs": [],
   "source": [
    "spark.stop()\n",
    "sc.stop()"
   ]
  },
  {
   "cell_type": "code",
   "execution_count": null,
   "id": "2ee8a3fc-5dc6-44db-a9ee-b40de5049ca0",
   "metadata": {},
   "outputs": [],
   "source": []
  }
 ],
 "metadata": {
  "kernelspec": {
   "display_name": "Python 3 (ipykernel)",
   "language": "python",
   "name": "python3"
  },
  "language_info": {
   "codemirror_mode": {
    "name": "ipython",
    "version": 3
   },
   "file_extension": ".py",
   "mimetype": "text/x-python",
   "name": "python",
   "nbconvert_exporter": "python",
   "pygments_lexer": "ipython3",
   "version": "3.11.6"
  }
 },
 "nbformat": 4,
 "nbformat_minor": 5
}
